{
 "cells": [
  {
   "cell_type": "markdown",
   "metadata": {
    "id": "1KN4KbnHbQbN"
   },
   "source": [
    "# 205229118\n",
    "# Mahalakshmi S"
   ]
  },
  {
   "cell_type": "markdown",
   "metadata": {},
   "source": [
    "## Lab 10. Clustering the job titles of LinkedIn Connections using Greedy Heuristic Algorithm"
   ]
  },
  {
   "cell_type": "code",
   "execution_count": 2,
   "metadata": {
    "id": "AvDtbUfvbQbS"
   },
   "outputs": [
    {
     "name": "stdout",
     "output_type": "stream",
     "text": [
      "https://www.linkedin.com/uas/login?session_redirect=%2Foauth%2Fv2%2Flogin-success%3Fapp_id%3D113884024%26auth_type%3DAC%26flow%3D%257B%2522authorizationType%2522%253A%2522OAUTH2_AUTHORIZATION_CODE%2522%252C%2522redirectUri%2522%253A%2522http%253A%252F%252Flocalhost%2522%252C%2522currentStage%2522%253A%2522LOGIN_SUCCESS%2522%252C%2522currentSubStage%2522%253A0%252C%2522authFlowName%2522%253A%2522generic-permission-list%2522%252C%2522appId%2522%253A113884024%252C%2522creationTime%2522%253A1632502847090%252C%2522state%2522%253A%2522wzlikfryjqbdcvbpouslkxkz%2522%252C%2522scope%2522%253A%2522r_liteprofile%252Cr_emailaddress%252Cw_member_social%2522%257D&fromSignIn=1&trk=oauth&cancel_redirect=%2Foauth%2Fv2%2Flogin-cancel%3Fapp_id%3D113884024%26auth_type%3DAC%26flow%3D%257B%2522authorizationType%2522%253A%2522OAUTH2_AUTHORIZATION_CODE%2522%252C%2522redirectUri%2522%253A%2522http%253A%252F%252Flocalhost%2522%252C%2522currentStage%2522%253A%2522LOGIN_SUCCESS%2522%252C%2522currentSubStage%2522%253A0%252C%2522authFlowName%2522%253A%2522generic-permission-list%2522%252C%2522appId%2522%253A113884024%252C%2522creationTime%2522%253A1632502847090%252C%2522state%2522%253A%2522wzlikfryjqbdcvbpouslkxkz%2522%252C%2522scope%2522%253A%2522r_liteprofile%252Cr_emailaddress%252Cw_member_social%2522%257D\n"
     ]
    }
   ],
   "source": [
    "import requests\n",
    "import string\n",
    "import random\n",
    "CLIENT_ID = \"78icgiayp0mu5z\"\n",
    "CLIENT_SECRET = \"Pa8inm0abOmALXwb\"\n",
    "REDIRECT_URI = \"http://localhost\"\n",
    "\n",
    "# Generate a random string to protect against cross-site request forgery\n",
    "letters = string.ascii_lowercase\n",
    "CSRF_TOKEN = ''.join(random.choice(letters) for i in range(24))\n",
    "\n",
    "auth_params = {'response_type': 'code',\n",
    "               'client_id': CLIENT_ID,\n",
    "               'redirect_uri': REDIRECT_URI,\n",
    "               'state': CSRF_TOKEN,\n",
    "               'scope': 'r_liteprofile,r_emailaddress,w_member_social'}\n",
    "\n",
    "html = requests.get(\"https://www.linkedin.com/oauth/v2/authorization\",\n",
    "                    params = auth_params)\n",
    "\n",
    "# Print the link to the approval page\n",
    "print(html.url)"
   ]
  },
  {
   "cell_type": "code",
   "execution_count": 6,
   "metadata": {
    "colab": {
     "base_uri": "https://localhost:8080/"
    },
    "id": "zmvxUPK_bQbV",
    "outputId": "c78f1fb1-46b0-4181-8d13-79f594031ce0",
    "scrolled": true
   },
   "outputs": [
    {
     "name": "stdout",
     "output_type": "stream",
     "text": [
      "Access Token: AQVr1RhTe-by9LWejc0Ec5r8ohnuDKCGlEXsHNgAOXr8kbcgMAAG_OBCkun1qwMXWg9XU71HATH693VgqfbT8xRFZg0A9uRK1ZsXsj4csDlYvkl-jm6_cNJDpfuy2dZUNqvWJLPCYDNoZTnWEakNlR9_n-z1BoAkMgKfaHr6d4vfIj4_bwIGUWty8SvNa2uXuAxgtx-TCzdKB-pTSqHLV_8df4tUyXRIXPtFQsGdwCarQGd6LbbejxFJIeI8Ye6I275JewSNQF5tkCZoRbjXG9JuTMF5ZEB7V9t8rhe2poVOaOWW_p6nF7X200Uc7WMGioym1AJDt4KpMef99z9RURLfssNAbQ\n",
      "Expires in (seconds): 5183999\n"
     ]
    }
   ],
   "source": [
    "AUTH_CODE ='AQSiVHBNtCf4dbOhaMVLB8d3YzK9h49mL2-dsIzAapQDPtLYMDu2e5DUGlDSDQz0BaAgsYwZqFoecbEFnelMr2lquMBiEEij-bw0ubwCFmevWOkyzYqJ3VLe1y0rQAI2-6kK8knX3PD3OlS1FaskXasSC3Fbd2lJ9AfrukspDZpd7h4szB4J7qBGudNYoDGYwS9UNfa7M3zGSsFVjw0'\n",
    "ACCESS_TOKEN_URL = 'https://www.linkedin.com/oauth/v2/accessToken'\n",
    "\n",
    "qd = {'grant_type': 'authorization_code',\n",
    "      'code': AUTH_CODE,\n",
    "      'redirect_uri': REDIRECT_URI,\n",
    "      'client_id': CLIENT_ID,\n",
    "      'client_secret': CLIENT_SECRET}\n",
    "\n",
    "response = requests.post(ACCESS_TOKEN_URL, data=qd, timeout=60)\n",
    "\n",
    "response = response.json()\n",
    "\n",
    "access_token = response['access_token']\n",
    "\n",
    "print (\"Access Token:\", access_token)\n",
    "print (\"Expires in (seconds):\", response['expires_in'])"
   ]
  },
  {
   "cell_type": "code",
   "execution_count": 7,
   "metadata": {
    "colab": {
     "base_uri": "https://localhost:8080/"
    },
    "id": "A9Rjm5yAbQbV",
    "outputId": "cf3915fa-3bea-4d8d-cc73-f8ff37a404d9"
   },
   "outputs": [
    {
     "name": "stdout",
     "output_type": "stream",
     "text": [
      "{\n",
      " \"localizedLastName\": \"S\",\n",
      " \"id\": \"VEYlKD4E-7\",\n",
      " \"localizedFirstName\": \"Mahalakshmi\"\n",
      "}\n"
     ]
    }
   ],
   "source": [
    "import json\n",
    "params = {'oauth2_access_token': access_token,\n",
    "          'fields': [\"localizedFirstName,localizedLastName,id\"]}\n",
    "response = requests.get('https://api.linkedin.com/v2/me', params = params)\n",
    "print(json.dumps(response.json(), indent=1))\n"
   ]
  },
  {
   "cell_type": "code",
   "execution_count": 8,
   "metadata": {
    "colab": {
     "base_uri": "https://localhost:8080/"
    },
    "id": "PARJjbowbQbW",
    "outputId": "aa821bea-c92a-40b8-def1-ccbaf3540bc0"
   },
   "outputs": [
    {
     "name": "stdout",
     "output_type": "stream",
     "text": [
      "{\n",
      " \"lastName\": {\n",
      "  \"preferredLocale\": {\n",
      "   \"country\": \"US\",\n",
      "   \"language\": \"en\"\n",
      "  }\n",
      " }\n",
      "}\n"
     ]
    }
   ],
   "source": [
    "import json\n",
    "\n",
    "params = {'oauth2_access_token': access_token,\n",
    "          'fields': ['lastName:(preferredLocale:(country,language))']}\n",
    "response = requests.get('https://api.linkedin.com/v2/me', params = params)\n",
    "\n",
    "print(json.dumps(response.json(), indent=1))"
   ]
  },
  {
   "cell_type": "code",
   "execution_count": 9,
   "metadata": {
    "id": "itaOHv3SbQbX"
   },
   "outputs": [],
   "source": [
    "import os\n",
    "import csv\n",
    "\n",
    "# Point this to your 'Connections.csv' file.\n",
    "CSV_FILE = ('Connections.csv')\n",
    "\n",
    "csvReader = csv.DictReader(open(CSV_FILE), delimiter=',', quotechar='\"')\n",
    "contacts = [row for row in csvReader]"
   ]
  },
  {
   "cell_type": "code",
   "execution_count": 10,
   "metadata": {
    "colab": {
     "base_uri": "https://localhost:8080/"
    },
    "id": "rdNBrWYpbQbX",
    "outputId": "dd5d8080-b5a7-420c-eff4-80da190abbbf"
   },
   "outputs": [
    {
     "data": {
      "text/plain": [
       "[{'First Name': 'Sethuraman',\n",
       "  'Last Name': 'Periannan',\n",
       "  'Email Address': '',\n",
       "  'Company': '',\n",
       "  'Position': '',\n",
       "  'Connected On': '16-Sep-21'},\n",
       " {'First Name': 'SIVARAJ',\n",
       "  'Last Name': 'D',\n",
       "  'Email Address': '',\n",
       "  'Company': '',\n",
       "  'Position': '',\n",
       "  'Connected On': '16-Sep-21'},\n",
       " {'First Name': 'rene',\n",
       "  'Last Name': 'irakoze ',\n",
       "  'Email Address': '',\n",
       "  'Company': 'The Sparks Foundation',\n",
       "  'Position': 'Data Science and business analytics intern',\n",
       "  'Connected On': '16-Sep-21'},\n",
       " {'First Name': 'KARAN',\n",
       "  'Last Name': 'R',\n",
       "  'Email Address': '',\n",
       "  'Company': '',\n",
       "  'Position': '',\n",
       "  'Connected On': '16-Sep-21'},\n",
       " {'First Name': 'Vimal Doss',\n",
       "  'Last Name': 'R',\n",
       "  'Email Address': '',\n",
       "  'Company': '',\n",
       "  'Position': '',\n",
       "  'Connected On': '16-Sep-21'},\n",
       " {'First Name': 'Eugene',\n",
       "  'Last Name': 'Kingsley',\n",
       "  'Email Address': '',\n",
       "  'Company': 'Kissflow',\n",
       "  'Position': 'Technical Solution Specialist',\n",
       "  'Connected On': '15-Sep-21'},\n",
       " {'First Name': 'Arzoo',\n",
       "  'Last Name': 'Sah',\n",
       "  'Email Address': '',\n",
       "  'Company': '',\n",
       "  'Position': '',\n",
       "  'Connected On': '11-Sep-21'},\n",
       " {'First Name': 'Janani',\n",
       "  'Last Name': 'Selvaraj PhD',\n",
       "  'Email Address': '',\n",
       "  'Company': 'Bishop Heber College, Tiruchirappalli - 620 017.',\n",
       "  'Position': 'Guest Lecturer',\n",
       "  'Connected On': '08-Sep-21'},\n",
       " {'First Name': 'Rajkumar',\n",
       "  'Last Name': 'Kannan',\n",
       "  'Email Address': '',\n",
       "  'Company': 'Bishop Heber College, Tiruchirappalli - 620 017.',\n",
       "  'Position': 'Dean - Deanery International Relations',\n",
       "  'Connected On': '08-Sep-21'},\n",
       " {'First Name': 'Jayasurya',\n",
       "  'Last Name': 'V',\n",
       "  'Email Address': '',\n",
       "  'Company': 'Actify Data Labs',\n",
       "  'Position': 'Data Analyst',\n",
       "  'Connected On': '08-Sep-21'},\n",
       " {'First Name': 'Maheshvaran',\n",
       "  'Last Name': 'S',\n",
       "  'Email Address': '',\n",
       "  'Company': '',\n",
       "  'Position': '',\n",
       "  'Connected On': '08-Sep-21'},\n",
       " {'First Name': 'Tulsi',\n",
       "  'Last Name': 'Bisbas',\n",
       "  'Email Address': '',\n",
       "  'Company': 'Freelancer',\n",
       "  'Position': 'Startup Mentor',\n",
       "  'Connected On': '08-Sep-21'},\n",
       " {'First Name': 'Carol Sheona',\n",
       "  'Last Name': 'Anselm',\n",
       "  'Email Address': '',\n",
       "  'Company': 'Genpact',\n",
       "  'Position': 'Business Analyst',\n",
       "  'Connected On': '08-Sep-21'},\n",
       " {'First Name': 'Isthiyak',\n",
       "  'Last Name': 'Ahemed',\n",
       "  'Email Address': '',\n",
       "  'Company': 'D.G. Vaishnav College',\n",
       "  'Position': 'Student',\n",
       "  'Connected On': '03-Sep-21'},\n",
       " {'First Name': 'SHARUK',\n",
       "  'Last Name': 'KHAN',\n",
       "  'Email Address': '',\n",
       "  'Company': 'Tiger Analytics',\n",
       "  'Position': 'Data Scientist',\n",
       "  'Connected On': '03-Sep-21'},\n",
       " {'First Name': 'Monisha',\n",
       "  'Last Name': 'Gunasekaran',\n",
       "  'Email Address': '',\n",
       "  'Company': 'Infosys',\n",
       "  'Position': 'Senior Operations Executive',\n",
       "  'Connected On': '03-Sep-21'},\n",
       " {'First Name': 'Deborah',\n",
       "  'Last Name': 'Anbu',\n",
       "  'Email Address': '',\n",
       "  'Company': '',\n",
       "  'Position': '',\n",
       "  'Connected On': '03-Sep-21'},\n",
       " {'First Name': 'Mathankumar ',\n",
       "  'Last Name': 'Maddy ',\n",
       "  'Email Address': '',\n",
       "  'Company': '',\n",
       "  'Position': '',\n",
       "  'Connected On': '03-Sep-21'},\n",
       " {'First Name': 'Chandra Bose',\n",
       "  'Last Name': 'Alagan',\n",
       "  'Email Address': '',\n",
       "  'Company': 'Micro Media Films',\n",
       "  'Position': 'Film Producer',\n",
       "  'Connected On': '03-Sep-21'},\n",
       " {'First Name': 'Franklin',\n",
       "  'Last Name': 'Solomon',\n",
       "  'Email Address': '',\n",
       "  'Company': '',\n",
       "  'Position': '',\n",
       "  'Connected On': '03-Sep-21'},\n",
       " {'First Name': 'V. S George.',\n",
       "  'Last Name': 'George',\n",
       "  'Email Address': '',\n",
       "  'Company': 'Oman Insurance Company',\n",
       "  'Position': 'Officer',\n",
       "  'Connected On': '03-Sep-21'},\n",
       " {'First Name': 'Jeevi',\n",
       "  'Last Name': 'Eunice',\n",
       "  'Email Address': '',\n",
       "  'Company': 'International Model United Nation',\n",
       "  'Position': 'Campus Ambassador',\n",
       "  'Connected On': '03-Sep-21'},\n",
       " {'First Name': 'Abirami',\n",
       "  'Last Name': 'Ganesh',\n",
       "  'Email Address': '',\n",
       "  'Company': '',\n",
       "  'Position': '',\n",
       "  'Connected On': '03-Sep-21'},\n",
       " {'First Name': 'Rudrani',\n",
       "  'Last Name': 'Mondal',\n",
       "  'Email Address': '',\n",
       "  'Company': '',\n",
       "  'Position': '',\n",
       "  'Connected On': '03-Sep-21'},\n",
       " {'First Name': 'Sathish',\n",
       "  'Last Name': 'Kumar',\n",
       "  'Email Address': '',\n",
       "  'Company': 'Aiwo Limited',\n",
       "  'Position': 'Assistant Manager Human Resources',\n",
       "  'Connected On': '03-Sep-21'},\n",
       " {'First Name': 'BHARATH',\n",
       "  'Last Name': 'S',\n",
       "  'Email Address': '',\n",
       "  'Company': '',\n",
       "  'Position': '',\n",
       "  'Connected On': '03-Sep-21'},\n",
       " {'First Name': 'Arjun',\n",
       "  'Last Name': 'V S',\n",
       "  'Email Address': '',\n",
       "  'Company': 'Hydro QuÃ©bec',\n",
       "  'Position': 'Research Intern - Robotics/AI/ML',\n",
       "  'Connected On': '03-Sep-21'},\n",
       " {'First Name': 'Lalith',\n",
       "  'Last Name': 'Akash',\n",
       "  'Email Address': '',\n",
       "  'Company': '',\n",
       "  'Position': '',\n",
       "  'Connected On': '09-Jun-21'},\n",
       " {'First Name': 'Bharathi',\n",
       "  'Last Name': 'Ravi',\n",
       "  'Email Address': '',\n",
       "  'Company': '',\n",
       "  'Position': '',\n",
       "  'Connected On': '09-Jun-21'},\n",
       " {'First Name': 'Priya',\n",
       "  'Last Name': 'Dharshini',\n",
       "  'Email Address': '',\n",
       "  'Company': 'Pantech',\n",
       "  'Position': 'Mobile Application Developer',\n",
       "  'Connected On': '09-Jun-21'},\n",
       " {'First Name': 'Mahalakshmi',\n",
       "  'Last Name': 'S',\n",
       "  'Email Address': '',\n",
       "  'Company': 'The Sparks Foundation',\n",
       "  'Position': 'Data Science and Bussiness Analytics intern at  The Sparks Foundation ',\n",
       "  'Connected On': '02-Jun-21'},\n",
       " {'First Name': 'Jeniffer',\n",
       "  'Last Name': 'R',\n",
       "  'Email Address': '',\n",
       "  'Company': '',\n",
       "  'Position': '',\n",
       "  'Connected On': '01-Jun-21'},\n",
       " {'First Name': 'Frastlin',\n",
       "  'Last Name': 'J',\n",
       "  'Email Address': '',\n",
       "  'Company': '',\n",
       "  'Position': '',\n",
       "  'Connected On': '01-Jun-21'},\n",
       " {'First Name': 'Selvan',\n",
       "  'Last Name': 'Kumar',\n",
       "  'Email Address': '',\n",
       "  'Company': 'The Sparks Foundation',\n",
       "  'Position': 'Data Science Intern',\n",
       "  'Connected On': '27-May-21'},\n",
       " {'First Name': 'Nihir',\n",
       "  'Last Name': 'Yadav',\n",
       "  'Email Address': '',\n",
       "  'Company': 'The Sparks Foundation',\n",
       "  'Position': 'Data Science & Business Analytics Intern',\n",
       "  'Connected On': '27-May-21'},\n",
       " {'First Name': 'vezhaventhan',\n",
       "  'Last Name': 'n',\n",
       "  'Email Address': '',\n",
       "  'Company': 'nil',\n",
       "  'Position': 'Data Scientist',\n",
       "  'Connected On': '27-May-21'},\n",
       " {'First Name': 'Bharathwin',\n",
       "  'Last Name': 'MA',\n",
       "  'Email Address': '',\n",
       "  'Company': 'The Sparks Foundation',\n",
       "  'Position': 'Data Science and Business Analytics - Internship',\n",
       "  'Connected On': '25-May-21'},\n",
       " {'First Name': 'Mohamed',\n",
       "  'Last Name': 'Sahim',\n",
       "  'Email Address': '',\n",
       "  'Company': 'The Sparks Foundation',\n",
       "  'Position': 'Data Science and Business Analytics',\n",
       "  'Connected On': '25-May-21'},\n",
       " {'First Name': 'Reshma',\n",
       "  'Last Name': 'R S',\n",
       "  'Email Address': '',\n",
       "  'Company': 'The Sparks Foundation',\n",
       "  'Position': 'Data Science and Business Analytics Intern',\n",
       "  'Connected On': '24-May-21'},\n",
       " {'First Name': 'Deepak',\n",
       "  'Last Name': 'R',\n",
       "  'Email Address': '',\n",
       "  'Company': 'The Sparks Foundation',\n",
       "  'Position': ' Data Science and Business Analystics Intern ',\n",
       "  'Connected On': '22-May-21'},\n",
       " {'First Name': 'Ragez',\n",
       "  'Last Name': 'Prashant',\n",
       "  'Email Address': '',\n",
       "  'Company': 'ETIQU',\n",
       "  'Position': 'Business Professional',\n",
       "  'Connected On': '22-May-21'},\n",
       " {'First Name': 'sharon',\n",
       "  'Last Name': 'lional',\n",
       "  'Email Address': '',\n",
       "  'Company': '',\n",
       "  'Position': '',\n",
       "  'Connected On': '21-May-21'},\n",
       " {'First Name': 'VIVIYAN',\n",
       "  'Last Name': 'RICHARDS',\n",
       "  'Email Address': '',\n",
       "  'Company': '',\n",
       "  'Position': '',\n",
       "  'Connected On': '21-May-21'},\n",
       " {'First Name': 'Vissweswaran',\n",
       "  'Last Name': 'C',\n",
       "  'Email Address': '',\n",
       "  'Company': 'The Sparks Foundation',\n",
       "  'Position': 'Data Science and Business Analystics Intern',\n",
       "  'Connected On': '19-May-21'},\n",
       " {'First Name': 'ANUB ',\n",
       "  'Last Name': 'DANIEL',\n",
       "  'Email Address': '',\n",
       "  'Company': '',\n",
       "  'Position': '',\n",
       "  'Connected On': '19-May-21'},\n",
       " {'First Name': 'Rithic',\n",
       "  'Last Name': 'Arputharaj U',\n",
       "  'Email Address': '',\n",
       "  'Company': 'The Sparks Foundation',\n",
       "  'Position': 'Data Science and Business analytics intern',\n",
       "  'Connected On': '19-May-21'},\n",
       " {'First Name': 'Manisha',\n",
       "  'Last Name': 'Annamalai',\n",
       "  'Email Address': '',\n",
       "  'Company': 'TA Digital ',\n",
       "  'Position': 'Software Engineer',\n",
       "  'Connected On': '06-May-21'},\n",
       " {'First Name': 'Viveka',\n",
       "  'Last Name': 'Balaji',\n",
       "  'Email Address': '',\n",
       "  'Company': 'The Sparks Foundation',\n",
       "  'Position': 'Data science and business analytics intern',\n",
       "  'Connected On': '06-May-21'},\n",
       " {'First Name': 'Sri',\n",
       "  'Last Name': 'Lakshmi',\n",
       "  'Email Address': '',\n",
       "  'Company': 'The Sparks Foundation',\n",
       "  'Position': 'Data Science and Business Analytic',\n",
       "  'Connected On': '07-Apr-21'},\n",
       " {'First Name': 'Ravinathan',\n",
       "  'Last Name': 'R',\n",
       "  'Email Address': '',\n",
       "  'Company': 'KPMG India',\n",
       "  'Position': 'Data Analytics consulting virtual internship',\n",
       "  'Connected On': '27-Mar-21'},\n",
       " {'First Name': 'Hariharasudhan',\n",
       "  'Last Name': 'D',\n",
       "  'Email Address': '',\n",
       "  'Company': '',\n",
       "  'Position': '',\n",
       "  'Connected On': '25-Mar-21'},\n",
       " {'First Name': 'Rohan',\n",
       "  'Last Name': 'R',\n",
       "  'Email Address': '',\n",
       "  'Company': 'Bishop Heber College, Tiruchirappalli - 620 017.',\n",
       "  'Position': 'Postgraduate Student',\n",
       "  'Connected On': '25-Mar-21'},\n",
       " {'First Name': 'Keerthana',\n",
       "  'Last Name': 'S',\n",
       "  'Email Address': '',\n",
       "  'Company': '',\n",
       "  'Position': '',\n",
       "  'Connected On': '25-Mar-21'}]"
      ]
     },
     "execution_count": 10,
     "metadata": {},
     "output_type": "execute_result"
    }
   ],
   "source": [
    "contacts"
   ]
  },
  {
   "cell_type": "code",
   "execution_count": 11,
   "metadata": {
    "id": "uubMxYIObQbY"
   },
   "outputs": [],
   "source": [
    "import pandas as pd "
   ]
  },
  {
   "cell_type": "code",
   "execution_count": 12,
   "metadata": {
    "id": "vKqOXTAGbQbZ"
   },
   "outputs": [],
   "source": [
    "con = pd.read_csv(\"Connections.csv\")"
   ]
  },
  {
   "cell_type": "code",
   "execution_count": 13,
   "metadata": {
    "colab": {
     "base_uri": "https://localhost:8080/",
     "height": 427
    },
    "id": "jdCgu6usbQbZ",
    "outputId": "0e838619-f6a4-48d7-fecc-4ede9256188c"
   },
   "outputs": [
    {
     "data": {
      "text/html": [
       "<div>\n",
       "<style scoped>\n",
       "    .dataframe tbody tr th:only-of-type {\n",
       "        vertical-align: middle;\n",
       "    }\n",
       "\n",
       "    .dataframe tbody tr th {\n",
       "        vertical-align: top;\n",
       "    }\n",
       "\n",
       "    .dataframe thead th {\n",
       "        text-align: right;\n",
       "    }\n",
       "</style>\n",
       "<table border=\"1\" class=\"dataframe\">\n",
       "  <thead>\n",
       "    <tr style=\"text-align: right;\">\n",
       "      <th></th>\n",
       "      <th>First Name</th>\n",
       "      <th>Last Name</th>\n",
       "      <th>Email Address</th>\n",
       "      <th>Company</th>\n",
       "      <th>Position</th>\n",
       "      <th>Connected On</th>\n",
       "    </tr>\n",
       "  </thead>\n",
       "  <tbody>\n",
       "    <tr>\n",
       "      <th>0</th>\n",
       "      <td>Sethuraman</td>\n",
       "      <td>Periannan</td>\n",
       "      <td>NaN</td>\n",
       "      <td>NaN</td>\n",
       "      <td>NaN</td>\n",
       "      <td>16-Sep-21</td>\n",
       "    </tr>\n",
       "    <tr>\n",
       "      <th>1</th>\n",
       "      <td>SIVARAJ</td>\n",
       "      <td>D</td>\n",
       "      <td>NaN</td>\n",
       "      <td>NaN</td>\n",
       "      <td>NaN</td>\n",
       "      <td>16-Sep-21</td>\n",
       "    </tr>\n",
       "    <tr>\n",
       "      <th>2</th>\n",
       "      <td>rene</td>\n",
       "      <td>irakoze</td>\n",
       "      <td>NaN</td>\n",
       "      <td>The Sparks Foundation</td>\n",
       "      <td>Data Science and business analytics intern</td>\n",
       "      <td>16-Sep-21</td>\n",
       "    </tr>\n",
       "    <tr>\n",
       "      <th>3</th>\n",
       "      <td>KARAN</td>\n",
       "      <td>R</td>\n",
       "      <td>NaN</td>\n",
       "      <td>NaN</td>\n",
       "      <td>NaN</td>\n",
       "      <td>16-Sep-21</td>\n",
       "    </tr>\n",
       "    <tr>\n",
       "      <th>4</th>\n",
       "      <td>Vimal Doss</td>\n",
       "      <td>R</td>\n",
       "      <td>NaN</td>\n",
       "      <td>NaN</td>\n",
       "      <td>NaN</td>\n",
       "      <td>16-Sep-21</td>\n",
       "    </tr>\n",
       "    <tr>\n",
       "      <th>5</th>\n",
       "      <td>Eugene</td>\n",
       "      <td>Kingsley</td>\n",
       "      <td>NaN</td>\n",
       "      <td>Kissflow</td>\n",
       "      <td>Technical Solution Specialist</td>\n",
       "      <td>15-Sep-21</td>\n",
       "    </tr>\n",
       "    <tr>\n",
       "      <th>6</th>\n",
       "      <td>Arzoo</td>\n",
       "      <td>Sah</td>\n",
       "      <td>NaN</td>\n",
       "      <td>NaN</td>\n",
       "      <td>NaN</td>\n",
       "      <td>11-Sep-21</td>\n",
       "    </tr>\n",
       "    <tr>\n",
       "      <th>7</th>\n",
       "      <td>Janani</td>\n",
       "      <td>Selvaraj PhD</td>\n",
       "      <td>NaN</td>\n",
       "      <td>Bishop Heber College, Tiruchirappalli - 620 017.</td>\n",
       "      <td>Guest Lecturer</td>\n",
       "      <td>08-Sep-21</td>\n",
       "    </tr>\n",
       "    <tr>\n",
       "      <th>8</th>\n",
       "      <td>Rajkumar</td>\n",
       "      <td>Kannan</td>\n",
       "      <td>NaN</td>\n",
       "      <td>Bishop Heber College, Tiruchirappalli - 620 017.</td>\n",
       "      <td>Dean - Deanery International Relations</td>\n",
       "      <td>08-Sep-21</td>\n",
       "    </tr>\n",
       "    <tr>\n",
       "      <th>9</th>\n",
       "      <td>Jayasurya</td>\n",
       "      <td>V</td>\n",
       "      <td>NaN</td>\n",
       "      <td>Actify Data Labs</td>\n",
       "      <td>Data Analyst</td>\n",
       "      <td>08-Sep-21</td>\n",
       "    </tr>\n",
       "  </tbody>\n",
       "</table>\n",
       "</div>"
      ],
      "text/plain": [
       "   First Name     Last Name  Email Address  \\\n",
       "0  Sethuraman     Periannan            NaN   \n",
       "1     SIVARAJ             D            NaN   \n",
       "2        rene      irakoze             NaN   \n",
       "3       KARAN             R            NaN   \n",
       "4  Vimal Doss             R            NaN   \n",
       "5      Eugene      Kingsley            NaN   \n",
       "6       Arzoo           Sah            NaN   \n",
       "7      Janani  Selvaraj PhD            NaN   \n",
       "8    Rajkumar        Kannan            NaN   \n",
       "9   Jayasurya             V            NaN   \n",
       "\n",
       "                                            Company  \\\n",
       "0                                               NaN   \n",
       "1                                               NaN   \n",
       "2                             The Sparks Foundation   \n",
       "3                                               NaN   \n",
       "4                                               NaN   \n",
       "5                                          Kissflow   \n",
       "6                                               NaN   \n",
       "7  Bishop Heber College, Tiruchirappalli - 620 017.   \n",
       "8  Bishop Heber College, Tiruchirappalli - 620 017.   \n",
       "9                                  Actify Data Labs   \n",
       "\n",
       "                                     Position Connected On  \n",
       "0                                         NaN    16-Sep-21  \n",
       "1                                         NaN    16-Sep-21  \n",
       "2  Data Science and business analytics intern    16-Sep-21  \n",
       "3                                         NaN    16-Sep-21  \n",
       "4                                         NaN    16-Sep-21  \n",
       "5               Technical Solution Specialist    15-Sep-21  \n",
       "6                                         NaN    11-Sep-21  \n",
       "7                              Guest Lecturer    08-Sep-21  \n",
       "8      Dean - Deanery International Relations    08-Sep-21  \n",
       "9                                Data Analyst    08-Sep-21  "
      ]
     },
     "execution_count": 13,
     "metadata": {},
     "output_type": "execute_result"
    }
   ],
   "source": [
    "con.head(10)"
   ]
  },
  {
   "cell_type": "code",
   "execution_count": 14,
   "metadata": {
    "colab": {
     "base_uri": "https://localhost:8080/"
    },
    "id": "LN79-kXpbQba",
    "outputId": "a11c2a27-8e39-4715-e6b1-f22b450a9e86"
   },
   "outputs": [
    {
     "name": "stdout",
     "output_type": "stream",
     "text": [
      "+--------------------------------------------------+------+\n",
      "| Company                                          | Freq |\n",
      "+--------------------------------------------------+------+\n",
      "| The Sparks Foundation                            | 12   |\n",
      "| Bishop Heber College, Tiruchirappalli - 620 017. | 3    |\n",
      "+--------------------------------------------------+------+\n"
     ]
    }
   ],
   "source": [
    "from prettytable import PrettyTable # pip install prettytable\n",
    "from collections import Counter\n",
    "from operator import itemgetter\n",
    "\n",
    "# Define a set of transforms that converts the first item\n",
    "# to the second item. Here, we're simply handling some\n",
    "# commonly known abbreviations, stripping off common suffixes,\n",
    "# etc.\n",
    "\n",
    "transforms = [(', Inc.', ''), (', Inc', ''), (', LLC', ''), (', LLP', ''),\n",
    "               (' LLC', ''), (' Inc.', ''), (' Inc', '')]\n",
    "\n",
    "companies = [c['Company'].strip() for c in contacts if c['Company'].strip() != '']\n",
    "\n",
    "for i, _ in enumerate(companies):\n",
    "    for transform in transforms:\n",
    "        companies[i] = companies[i].replace(*transform)\n",
    "\n",
    "pt = PrettyTable(field_names=['Company', 'Freq'])\n",
    "pt.align = 'l'\n",
    "c = Counter(companies)\n",
    "\n",
    "[pt.add_row([company, freq]) for (company, freq) in sorted(c.items(), key=itemgetter(1), reverse=True) if freq > 1]\n",
    "\n",
    "print(pt)"
   ]
  },
  {
   "cell_type": "code",
   "execution_count": 15,
   "metadata": {
    "colab": {
     "base_uri": "https://localhost:8080/"
    },
    "id": "7YAKROpjbQbb",
    "outputId": "3dffa861-d9fc-45e3-b364-0bd85a7eb3a5"
   },
   "outputs": [
    {
     "name": "stdout",
     "output_type": "stream",
     "text": [
      "+---------------------------------------------+------+\n",
      "| Job Title                                   | Freq |\n",
      "+---------------------------------------------+------+\n",
      "| Data Scientist                              | 2    |\n",
      "| Data Science and Business Analystics Intern | 2    |\n",
      "+---------------------------------------------+------+\n",
      "+------------+------+\n",
      "| Token      | Freq |\n",
      "+------------+------+\n",
      "| Data       | 16   |\n",
      "| Science    | 11   |\n",
      "| and        | 10   |\n",
      "| Business   | 10   |\n",
      "| Intern     | 6    |\n",
      "| Analytics  | 6    |\n",
      "| intern     | 4    |\n",
      "| analytics  | 3    |\n",
      "| business   | 2    |\n",
      "| Analyst    | 2    |\n",
      "| Student    | 2    |\n",
      "| Scientist  | 2    |\n",
      "| Analystics | 2    |\n",
      "+------------+------+\n"
     ]
    }
   ],
   "source": [
    "transforms = [\n",
    "('Sr.', 'Senior'),\n",
    "('Sr', 'Senior'),\n",
    "('Jr.', 'Junior'),\n",
    "('Jr', 'Junior'),\n",
    "('CEO', 'Chief Executive Officer'),\n",
    "('COO', 'Chief Operating Officer'),\n",
    "('CTO', 'Chief Technology Officer'),\n",
    "('CFO', 'Chief Finance Officer'),\n",
    "('VP', 'Vice President'),\n",
    "]\n",
    "# Read in a list of titles and split apart\n",
    "# any combined titles like \"President/CEO.\"\n",
    "# Other variations could be handled as well, such\n",
    "# as \"President & CEO\", \"President and CEO\", etc.\n",
    "titles = []\n",
    "for contact in contacts:\n",
    " titles.extend([t.strip() for t in contact['Position'].split('/')\n",
    "if contact['Position'].strip() != ''])\n",
    "# Replace common/known abbreviations\n",
    "for i, _ in enumerate(titles):\n",
    "  for transform in transforms:\n",
    "    titles[i] = titles[i].replace(*transform)\n",
    "# Print out a table of titles sorted by frequency\n",
    "pt = PrettyTable(field_names=['Job Title', 'Freq'])\n",
    "pt.align = 'l'\n",
    "c = Counter(titles)\n",
    "[pt.add_row([title, freq])\n",
    "for (title, freq) in sorted(c.items(), key=itemgetter(1), reverse=True)\n",
    "if freq > 1]\n",
    "print(pt)\n",
    "# Print out a table of tokens sorted by frequency\n",
    "tokens = []\n",
    "for title in titles:\n",
    "  tokens.extend([t.strip(',') for t in title.split()])\n",
    "pt = PrettyTable(field_names=['Token', 'Freq'])\n",
    "pt.align = 'l'\n",
    "c = Counter(tokens)\n",
    "[pt.add_row([token, freq])\n",
    "for (token, freq) in sorted(c.items(), key=itemgetter(1), reverse=True)\n",
    "  if freq > 1 and len(token) > 2]\n",
    "print(pt)"
   ]
  },
  {
   "cell_type": "code",
   "execution_count": 16,
   "metadata": {
    "colab": {
     "base_uri": "https://localhost:8080/"
    },
    "id": "JtBsjTfGeHZV",
    "outputId": "4b5cd559-e5e6-444b-f917-fdbef2405c81"
   },
   "outputs": [
    {
     "name": "stdout",
     "output_type": "stream",
     "text": [
      "+--------------------------------------------------+------+\n",
      "| Company                                          | Freq |\n",
      "+--------------------------------------------------+------+\n",
      "| The Sparks Foundation                            | 12   |\n",
      "| Bishop Heber College, Tiruchirappalli - 620 017. | 3    |\n",
      "+--------------------------------------------------+------+\n"
     ]
    }
   ],
   "source": [
    "import os\n",
    "import csv\n",
    "from collections import Counter\n",
    "from operator import itemgetter\n",
    "from prettytable import PrettyTable\n",
    "\n",
    "# XXX: Place your \"Outlook CSV\" formatted file of connections from \n",
    "# http://www.linkedin.com/people/export-settings at the following\n",
    "# location: resources/ch03-linkedin/my_connections.csv\n",
    "\n",
    "CSV_FILE = ('Connections.csv')\n",
    "\n",
    "# Define a set of transforms that converts the first item\n",
    "# to the second item. Here, we're simply handling some\n",
    "# commonly known abbreviations, stripping off common suffixes, \n",
    "# etc.\n",
    "\n",
    "transforms = [(', Inc.', ''), (', Inc', ''), (', LLC', ''), (', LLP', ''),\n",
    "               (' LLC', ''), (' Inc.', ''), (' Inc', '')]\n",
    "\n",
    "csvReader = csv.DictReader(open(CSV_FILE), delimiter=',', quotechar='\"')\n",
    "contacts = [row for row in csvReader]\n",
    "companies = [c['Company'].strip() for c in contacts if c['Company'].strip() != '']\n",
    "\n",
    "for i, _ in enumerate(companies):\n",
    "    for transform in transforms:\n",
    "        companies[i] = companies[i].replace(*transform)\n",
    "\n",
    "pt = PrettyTable(field_names=['Company', 'Freq'])\n",
    "pt.align = 'l'\n",
    "c = Counter(companies)\n",
    "[pt.add_row([company, freq]) \n",
    " for (company, freq) in sorted(c.items(), key=itemgetter(1), reverse=True) \n",
    "     if freq > 1]\n",
    "print(pt)"
   ]
  },
  {
   "cell_type": "code",
   "execution_count": 17,
   "metadata": {
    "id": "dptvV8lbfOst"
   },
   "outputs": [],
   "source": [
    "A = \"CEO is a expansion of Chief Executive Officer\"\n",
    "B = \"CTO is a expansion of Chief Technology Officer\""
   ]
  },
  {
   "cell_type": "code",
   "execution_count": 18,
   "metadata": {
    "id": "t7yvbU8M-Ix7"
   },
   "outputs": [],
   "source": [
    "words_doc1 = {'CEO', 'is', 'a', 'expansion', 'of', 'Chief', 'Executive', 'Officer'}\n",
    "words_doc2 = {'CTO', 'is', 'a', 'expansion', 'of', 'Chief', 'Technology', 'Officer'}"
   ]
  },
  {
   "cell_type": "code",
   "execution_count": 19,
   "metadata": {
    "id": "H9fZGUoq--q3"
   },
   "outputs": [],
   "source": [
    "def Jaccard_Similarity(doc1, doc2): \n",
    "    \n",
    "    # List the unique words in a document\n",
    "    words_doc1 = set(doc1.lower().split()) \n",
    "    words_doc2 = set(doc2.lower().split())\n",
    "    \n",
    "    # Find the intersection of words list of doc1 & doc2\n",
    "    intersection = words_doc1.intersection(A)\n",
    "\n",
    "    # Find the union of words list of doc1 & doc2\n",
    "    union = words_doc1.union(B)\n",
    "        \n",
    "    # Calculate Jaccard similarity score \n",
    "    # using length of intersection set divided by length of union set\n",
    "    return float(len(intersection)) / len(union)"
   ]
  },
  {
   "cell_type": "code",
   "execution_count": 20,
   "metadata": {
    "colab": {
     "base_uri": "https://localhost:8080/"
    },
    "id": "YLwP01yj_DD5",
    "outputId": "8f94ba9e-f7f9-4324-c641-04bcddd7c461"
   },
   "outputs": [
    {
     "data": {
      "text/plain": [
       "0.038461538461538464"
      ]
     },
     "execution_count": 20,
     "metadata": {},
     "output_type": "execute_result"
    }
   ],
   "source": [
    "A = \"CEO is a expansion of Chief Executive Officer\"\n",
    "B = \"CTO is a expansion of Chief Technology Officer\"\n",
    "Jaccard_Similarity(A,B)"
   ]
  },
  {
   "cell_type": "code",
   "execution_count": 21,
   "metadata": {
    "colab": {
     "base_uri": "https://localhost:8080/"
    },
    "id": "Iy7g2_hw_6Gr",
    "outputId": "14b6ae66-fcbf-4fe9-ee10-3f91b0aed6d6"
   },
   "outputs": [
    {
     "name": "stdout",
     "output_type": "stream",
     "text": [
      "[(None, 'Chief'), ('Chief', 'Executive'), ('Executive', 'Officer'), ('Officer', None)]\n",
      "[(None, 'Chief'), ('Chief', 'Technology'), ('Technology', 'Officer'), ('Officer', None)]\n",
      "2\n"
     ]
    }
   ],
   "source": [
    "from nltk.util import bigrams\n",
    "ceo_bigrams = list(bigrams(\"Chief Executive Officer\".split(), pad_left=True, pad_right=True))\n",
    "cto_bigrams = list(bigrams(\"Chief Technology Officer\".split(), pad_left=True, pad_right=True))\n",
    "print(ceo_bigrams)\n",
    "print(cto_bigrams)\n",
    "print(len(set(ceo_bigrams).intersection(set(cto_bigrams))))\n"
   ]
  },
  {
   "cell_type": "code",
   "execution_count": 22,
   "metadata": {
    "colab": {
     "base_uri": "https://localhost:8080/"
    },
    "id": "Y6Z_DTc6AOUu",
    "outputId": "8acdd908-bb4d-41a8-e822-81424d7fc191"
   },
   "outputs": [
    {
     "name": "stdout",
     "output_type": "stream",
     "text": [
      "['Chief', 'Executive', 'Officer']\n",
      "['Chief', 'Technology', 'Officer']\n",
      "\n",
      "Intersection:\n",
      "{'Officer', 'Chief'}\n",
      "\n",
      "Union:\n",
      "{'Executive', 'Technology', 'Officer', 'Chief'}\n",
      "\n",
      "Similarity: 0.5\n",
      "Distance: 0.5\n"
     ]
    }
   ],
   "source": [
    "from nltk.metrics.distance import jaccard_distance # pip install nltk\n",
    "\n",
    "job_title_1 = 'Chief Executive Officer'.split()\n",
    "job_title_2 = 'Chief Technology Officer'.split()\n",
    "print(job_title_1)\n",
    "print(job_title_2)\n",
    "\n",
    "print()\n",
    "print('Intersection:')\n",
    "intersection = set(job_title_1).intersection(set(job_title_2))\n",
    "print(intersection)\n",
    "\n",
    "print()\n",
    "print('Union:')\n",
    "union = set(job_title_1).union(set(job_title_2))\n",
    "print(union)\n",
    "print()\n",
    "print('Similarity:', len(intersection) / len(union))\n",
    "print('Distance:', jaccard_distance(set(job_title_1), set(job_title_2)))\n",
    "\n"
   ]
  },
  {
   "cell_type": "code",
   "execution_count": 23,
   "metadata": {
    "colab": {
     "base_uri": "https://localhost:8080/"
    },
    "id": "UkvtdFX4bz_q",
    "outputId": "4a8826b3-5643-4c03-a5d4-706a46acb292"
   },
   "outputs": [
    {
     "name": "stdout",
     "output_type": "stream",
     "text": [
      "Collecting cluster\n",
      "  Downloading cluster-1.4.1.post3-py2.py3-none-any.whl (28 kB)\n",
      "Installing collected packages: cluster\n",
      "Successfully installed cluster-1.4.1.post3\n"
     ]
    }
   ],
   "source": [
    "!pip install cluster"
   ]
  },
  {
   "cell_type": "code",
   "execution_count": null,
   "metadata": {
    "id": "4_NkzqNBCJzp"
   },
   "outputs": [],
   "source": [
    "import os\n",
    "import csv\n",
    "from nltk.metrics.distance import jaccard_distance\n",
    "\n",
    "# Point this to your 'Connections.csv' file\n",
    "CSV_FILE = os.path.join('Connections.csv')\n",
    "\n",
    "# Tweak this distance threshold and try different distance calculations\n",
    "# during experimentation\n",
    "DISTANCE_THRESHOLD = 0.6\n",
    "DISTANCE = jaccard_distance\n",
    "\n",
    "def cluster_contacts_by_title():\n",
    "\n",
    "    transforms = [\n",
    "        ('Sr.', 'Senior'),\n",
    "        ('Sr', 'Senior'),\n",
    "        ('Jr.', 'Junior'),\n",
    "        ('Jr', 'Junior'),\n",
    "        ('CEO', 'Chief Executive Officer'),\n",
    "        ('COO', 'Chief Operating Officer'),\n",
    "        ('CTO', 'Chief Technology Officer'),\n",
    "        ('CFO', 'Chief Finance Officer'),\n",
    "        ('VP', 'Vice President'),\n",
    "        ]\n",
    "\n",
    "    separators = ['/', ' and ', ' & ', '|', ',']\n",
    "\n",
    "    # Normalize and/or replace known abbreviations\n",
    "    # and build up a list of common titles.\n",
    "\n",
    "    all_titles = []\n",
    "    for i, _ in enumerate(contacts):\n",
    "        if contacts[i]['Position'] == '':\n",
    "            contacts[i]['Position'] = ['']\n",
    "            continue\n",
    "        titles = [contacts[i]['Position']]\n",
    "        # flatten list\n",
    "        titles = [item for sublist in titles for item in sublist]\n",
    "        for separator in separators:\n",
    "            for title in titles:\n",
    "                if title.find(separator) >= 0:\n",
    "                    titles.remove(title)\n",
    "                    titles.extend([title.strip() for title in\n",
    "                    title.split(separator) if title.strip() != ''])\n",
    "\n",
    "        for transform in transforms:\n",
    "            titles = [title.replace(*transform) for title in titles]\n",
    "\n",
    "        contacts[i]['Position'] = titles\n",
    "        all_titles.extend(titles)\n",
    "\n",
    "    all_titles = list(set(all_titles))\n",
    "\n",
    "    clusters = {}\n",
    "    for title1 in all_titles:\n",
    "        clusters[title1] = []\n",
    "        for title2 in all_titles:\n",
    "            if title2 in clusters[title1] or title2 in clusters and title1 in clusters[title2]:\n",
    "                continue\n",
    "            distance = DISTANCE(set(title1.split()), set(title2.split()))\n",
    "\n",
    "            if distance < DISTANCE_THRESHOLD:\n",
    "                clusters[title1].append(title2)\n",
    "\n",
    "    # Flatten out clusters\n",
    "\n",
    "    clusters = [clusters[title] for title in clusters if len(clusters[title]) > 1]\n",
    "\n",
    "    # Round up contacts who are in these clusters and group them together\n",
    "\n",
    "    clustered_contacts = {}\n",
    "    for cluster in clusters:\n",
    "        clustered_contacts[tuple(cluster)] = []\n",
    "        for contact in contacts:\n",
    "            for title in contact['Position']:\n",
    "                if title in cluster:\n",
    "                    clustered_contacts[tuple(cluster)].append('{0} {1}.'.format(\n",
    "                        contact['FirstName'], contact['LastName'][0]))\n",
    "\n",
    "    return clustered_contacts\n",
    "\n",
    "\n",
    "clustered_contacts = cluster_contacts_by_title()\n",
    "\n",
    "for titles in clustered_contacts:\n",
    "    common_titles_heading = 'Common Titles: ' + ', '.join(titles)\n",
    "\n",
    "    descriptive_terms = set(titles[0].split())\n",
    "    for title in titles:\n",
    "        descriptive_terms.intersection_update(set(title.split()))\n",
    "    if len(descriptive_terms) == 0: descriptive_terms = ['***No words in common***']\n",
    "    descriptive_terms_heading = 'Descriptive Terms: ' + ', '.join(descriptive_terms)\n",
    "    print(common_titles_heading)\n",
    "    print('\\n'+descriptive_terms_heading)\n",
    "    print('-' * 70)\n",
    "    print('\\n'.join(clustered_contacts[titles]))\n",
    "    print()"
   ]
  }
 ],
 "metadata": {
  "colab": {
   "name": "sma_lab10_hariharasudhan_12 (1).ipynb",
   "provenance": []
  },
  "kernelspec": {
   "display_name": "Python 3",
   "language": "python",
   "name": "python3"
  },
  "language_info": {
   "codemirror_mode": {
    "name": "ipython",
    "version": 3
   },
   "file_extension": ".py",
   "mimetype": "text/x-python",
   "name": "python",
   "nbconvert_exporter": "python",
   "pygments_lexer": "ipython3",
   "version": "3.8.8"
  }
 },
 "nbformat": 4,
 "nbformat_minor": 1
}
