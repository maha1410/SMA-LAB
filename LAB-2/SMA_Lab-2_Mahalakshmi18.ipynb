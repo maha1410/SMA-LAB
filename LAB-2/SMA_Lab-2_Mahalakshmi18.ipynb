{
 "cells": [
  {
   "cell_type": "markdown",
   "metadata": {},
   "source": [
    "### 205229118\n",
    "### Mahalakshmi S"
   ]
  },
  {
   "cell_type": "markdown",
   "metadata": {},
   "source": [
    "### SMA Lab2. Real time crawling of tweets from Twitter (Part 2)\n",
    "\n",
    "### 1. Install and import twitter library "
   ]
  },
  {
   "cell_type": "code",
   "execution_count": 2,
   "metadata": {},
   "outputs": [],
   "source": [
    "import twitter\n",
    "import json"
   ]
  },
  {
   "cell_type": "markdown",
   "metadata": {},
   "source": [
    "### 2. Signup your twitter developer account and obtain the following credentials\n",
    "###  consumer_key = “…”\n",
    "###  consumer_secret = “ … “\n",
    "###  access_token = “ … “\n",
    "###  access_secret = “ … “ "
   ]
  },
  {
   "cell_type": "code",
   "execution_count": 3,
   "metadata": {},
   "outputs": [],
   "source": [
    "CONSUMER_KEY = '1wRdKfNEIeuH9stbZIfB6zTnj'\n",
    "CONSUMER_SECRET = 'C2tGdXLsyvUxK6jSojceLnKptmKhF7nhE74JfTrQaNxguemEXJ'\n",
    "OAUTH_TOKEN = '1426417914756825088-9IgvrDKl2mXIlGzQ70yd8YmBZ2xJSo'\n",
    "OAUTH_TOKEN_SECRET = 'Ps1zi6VdqzRH0XjjY86oPPker22KgdutKmVQQ5cQ3B6M0'"
   ]
  },
  {
   "cell_type": "markdown",
   "metadata": {},
   "source": [
    "### 3. Write code for crawling real time data from Twitter Streaming API."
   ]
  },
  {
   "cell_type": "code",
   "execution_count": 4,
   "metadata": {},
   "outputs": [
    {
     "name": "stdout",
     "output_type": "stream",
     "text": [
      "<twitter.api.Twitter object at 0x0000026E3C0C83A0>\n"
     ]
    }
   ],
   "source": [
    "auth = twitter.oauth.OAuth(OAUTH_TOKEN, OAUTH_TOKEN_SECRET,\n",
    "                           CONSUMER_KEY, CONSUMER_SECRET)\n",
    "\n",
    "twitter_api = twitter.Twitter(auth=auth)\n",
    "print(twitter_api)"
   ]
  },
  {
   "cell_type": "markdown",
   "metadata": {},
   "source": [
    "### 4. Crawl tweets using hashtags of your own"
   ]
  },
  {
   "cell_type": "code",
   "execution_count": 5,
   "metadata": {},
   "outputs": [
    {
     "name": "stdout",
     "output_type": "stream",
     "text": [
      "{'statuses': [{'created_at': 'Fri Aug 20 15:02:46 +0000 2021', 'id': 1428734259645214720, 'id_str': '1428734259645214720', 'text': '👉 Amazon Youth Edition Spin and Win Quiz Contest Answers\\n\\n👉 https://t.co/ppaDYjTIMK\\n\\n#BitsCraze #AmazonQuiz… https://t.co/QaN9r4nh0b', 'truncated': True, 'entities': {'hashtags': [{'text': 'BitsCraze', 'indices': [85, 95]}, {'text': 'AmazonQuiz', 'indices': [96, 107]}], 'symbols': [], 'user_mentions': [], 'urls': [{'url': 'https://t.co/ppaDYjTIMK', 'expanded_url': 'http://bitscraze.blogspot.com/2021/08/amazon-youth-edition-spin-and-win-quiz.html', 'display_url': 'bitscraze.blogspot.com/2021/08/amazon…', 'indices': [60, 83]}, {'url': 'https://t.co/QaN9r4nh0b', 'expanded_url': 'https://twitter.com/i/web/status/1428734259645214720', 'display_url': 'twitter.com/i/web/status/1…', 'indices': [109, 132]}]}, 'metadata': {'iso_language_code': 'en', 'result_type': 'recent'}, 'source': '<a href=\"http://twitter.com/download/android\" rel=\"nofollow\">Twitter for Android</a>', 'in_reply_to_status_id': None, 'in_reply_to_status_id_str': None, 'in_reply_to_user_id': None, 'in_reply_to_user_id_str': None, 'in_reply_to_screen_name': None, 'user': {'id': 1420330278615093250, 'id_str': '1420330278615093250', 'name': 'BitsCraze', 'screen_name': 'BitsCraze', 'location': '', 'description': '👉 Get curated informative bits on Amazon, Flipkart Quiz contests and many more !!\\n\\nJoin us on Telegram : https://t.co/XRXMmokzQL', 'url': 'https://t.co/6le6LTlSm5', 'entities': {'url': {'urls': [{'url': 'https://t.co/6le6LTlSm5', 'expanded_url': 'https://bitscraze.blogspot.com/?m=1', 'display_url': 'bitscraze.blogspot.com/?m=1', 'indices': [0, 23]}]}, 'description': {'urls': [{'url': 'https://t.co/XRXMmokzQL', 'expanded_url': 'https://t.me/bitscraze', 'display_url': 't.me/bitscraze', 'indices': [105, 128]}]}}, 'protected': False, 'followers_count': 3, 'friends_count': 4, 'listed_count': 0, 'created_at': 'Wed Jul 28 10:28:37 +0000 2021', 'favourites_count': 295, 'utc_offset': None, 'time_zone': None, 'geo_enabled': False, 'verified': False, 'statuses_count': 210, 'lang': None, 'contributors_enabled': False, 'is_translator': False, 'is_translation_enabled': False, 'profile_background_color': 'F5F8FA', 'profile_background_image_url': None, 'profile_background_image_url_https': None, 'profile_background_tile': False, 'profile_image_url': 'http://pbs.twimg.com/profile_images/1420337419086270465/-VOjPkem_normal.jpg', 'profile_image_url_https': 'https://pbs.twimg.com/profile_images/1420337419086270465/-VOjPkem_normal.jpg', 'profile_link_color': '1DA1F2', 'profile_sidebar_border_color': 'C0DEED', 'profile_sidebar_fill_color': 'DDEEF6', 'profile_text_color': '333333', 'profile_use_background_image': True, 'has_extended_profile': False, 'default_profile': True, 'default_profile_image': False, 'following': False, 'follow_request_sent': False, 'notifications': False, 'translator_type': 'none', 'withheld_in_countries': []}, 'geo': None, 'coordinates': None, 'place': None, 'contributors': None, 'is_quote_status': False, 'retweet_count': 0, 'favorite_count': 1, 'favorited': False, 'retweeted': False, 'possibly_sensitive': False, 'lang': 'en'}, {'created_at': 'Fri Aug 20 14:51:16 +0000 2021', 'id': 1428731366317854728, 'id_str': '1428731366317854728', 'text': '👉 Amazon Mi Band 6 Quiz Contest Answers\\n\\n👉 https://t.co/XJAURfN1D8\\n\\n#AmazonSpecials #TheFuturelsSmartFitness… https://t.co/Bf5Ycg39I0', 'truncated': True, 'entities': {'hashtags': [{'text': 'AmazonSpecials', 'indices': [68, 83]}, {'text': 'TheFuturelsSmartFitness', 'indices': [84, 108]}], 'symbols': [], 'user_mentions': [], 'urls': [{'url': 'https://t.co/XJAURfN1D8', 'expanded_url': 'http://bitscraze.blogspot.com/2021/08/amazon-mi-band-6-quiz-contest-answers.html', 'display_url': 'bitscraze.blogspot.com/2021/08/amazon…', 'indices': [43, 66]}, {'url': 'https://t.co/Bf5Ycg39I0', 'expanded_url': 'https://twitter.com/i/web/status/1428731366317854728', 'display_url': 'twitter.com/i/web/status/1…', 'indices': [110, 133]}]}, 'metadata': {'iso_language_code': 'en', 'result_type': 'recent'}, 'source': '<a href=\"http://twitter.com/download/android\" rel=\"nofollow\">Twitter for Android</a>', 'in_reply_to_status_id': None, 'in_reply_to_status_id_str': None, 'in_reply_to_user_id': None, 'in_reply_to_user_id_str': None, 'in_reply_to_screen_name': None, 'user': {'id': 1420330278615093250, 'id_str': '1420330278615093250', 'name': 'BitsCraze', 'screen_name': 'BitsCraze', 'location': '', 'description': '👉 Get curated informative bits on Amazon, Flipkart Quiz contests and many more !!\\n\\nJoin us on Telegram : https://t.co/XRXMmokzQL', 'url': 'https://t.co/6le6LTlSm5', 'entities': {'url': {'urls': [{'url': 'https://t.co/6le6LTlSm5', 'expanded_url': 'https://bitscraze.blogspot.com/?m=1', 'display_url': 'bitscraze.blogspot.com/?m=1', 'indices': [0, 23]}]}, 'description': {'urls': [{'url': 'https://t.co/XRXMmokzQL', 'expanded_url': 'https://t.me/bitscraze', 'display_url': 't.me/bitscraze', 'indices': [105, 128]}]}}, 'protected': False, 'followers_count': 3, 'friends_count': 4, 'listed_count': 0, 'created_at': 'Wed Jul 28 10:28:37 +0000 2021', 'favourites_count': 295, 'utc_offset': None, 'time_zone': None, 'geo_enabled': False, 'verified': False, 'statuses_count': 210, 'lang': None, 'contributors_enabled': False, 'is_translator': False, 'is_translation_enabled': False, 'profile_background_color': 'F5F8FA', 'profile_background_image_url': None, 'profile_background_image_url_https': None, 'profile_background_tile': False, 'profile_image_url': 'http://pbs.twimg.com/profile_images/1420337419086270465/-VOjPkem_normal.jpg', 'profile_image_url_https': 'https://pbs.twimg.com/profile_images/1420337419086270465/-VOjPkem_normal.jpg', 'profile_link_color': '1DA1F2', 'profile_sidebar_border_color': 'C0DEED', 'profile_sidebar_fill_color': 'DDEEF6', 'profile_text_color': '333333', 'profile_use_background_image': True, 'has_extended_profile': False, 'default_profile': True, 'default_profile_image': False, 'following': False, 'follow_request_sent': False, 'notifications': False, 'translator_type': 'none', 'withheld_in_countries': []}, 'geo': None, 'coordinates': None, 'place': None, 'contributors': None, 'is_quote_status': False, 'retweet_count': 0, 'favorite_count': 1, 'favorited': False, 'retweeted': False, 'possibly_sensitive': False, 'lang': 'en'}, {'created_at': 'Fri Aug 20 14:48:02 +0000 2021', 'id': 1428730548919312384, 'id_str': '1428730548919312384', 'text': '@XiaomiIndia Ans 2 - Option (C) and  (D) are right answer because Mi11X has Qualcomm ®Adreno™650 GPU but Mi11XPro h… https://t.co/M0fZ03tS5m', 'truncated': True, 'entities': {'hashtags': [], 'symbols': [], 'user_mentions': [{'screen_name': 'XiaomiIndia', 'name': 'Mi India', 'id': 2646263522, 'id_str': '2646263522', 'indices': [0, 12]}], 'urls': [{'url': 'https://t.co/M0fZ03tS5m', 'expanded_url': 'https://twitter.com/i/web/status/1428730548919312384', 'display_url': 'twitter.com/i/web/status/1…', 'indices': [117, 140]}]}, 'metadata': {'iso_language_code': 'en', 'result_type': 'recent'}, 'source': '<a href=\"http://twitter.com/download/android\" rel=\"nofollow\">Twitter for Android</a>', 'in_reply_to_status_id': 1427942617342353411, 'in_reply_to_status_id_str': '1427942617342353411', 'in_reply_to_user_id': 2646263522, 'in_reply_to_user_id_str': '2646263522', 'in_reply_to_screen_name': 'XiaomiIndia', 'user': {'id': 996403208875532289, 'id_str': '996403208875532289', 'name': 'Prashant | India 🇮🇳', 'screen_name': 'am_pacific', 'location': 'India', 'description': '∆ pexelspacific ∆\\nIG - https://t.co/8WmuM64YGa', 'url': 'https://t.co/1a6Nd7npMx', 'entities': {'url': {'urls': [{'url': 'https://t.co/1a6Nd7npMx', 'expanded_url': 'https://www.pexels.com/@pacific', 'display_url': 'pexels.com/@pacific', 'indices': [0, 23]}]}, 'description': {'urls': [{'url': 'https://t.co/8WmuM64YGa', 'expanded_url': 'https://www.instagram.com/pacific24/', 'display_url': 'instagram.com/pacific24/', 'indices': [23, 46]}]}}, 'protected': False, 'followers_count': 78, 'friends_count': 84, 'listed_count': 0, 'created_at': 'Tue May 15 14:53:32 +0000 2018', 'favourites_count': 3479, 'utc_offset': None, 'time_zone': None, 'geo_enabled': True, 'verified': False, 'statuses_count': 22011, 'lang': None, 'contributors_enabled': False, 'is_translator': False, 'is_translation_enabled': False, 'profile_background_color': 'F5F8FA', 'profile_background_image_url': None, 'profile_background_image_url_https': None, 'profile_background_tile': False, 'profile_image_url': 'http://pbs.twimg.com/profile_images/1384086260663287814/X-Z6nhON_normal.jpg', 'profile_image_url_https': 'https://pbs.twimg.com/profile_images/1384086260663287814/X-Z6nhON_normal.jpg', 'profile_banner_url': 'https://pbs.twimg.com/profile_banners/996403208875532289/1628779993', 'profile_link_color': '1DA1F2', 'profile_sidebar_border_color': 'C0DEED', 'profile_sidebar_fill_color': 'DDEEF6', 'profile_text_color': '333333', 'profile_use_background_image': True, 'has_extended_profile': False, 'default_profile': True, 'default_profile_image': False, 'following': False, 'follow_request_sent': False, 'notifications': False, 'translator_type': 'none', 'withheld_in_countries': []}, 'geo': None, 'coordinates': None, 'place': None, 'contributors': None, 'is_quote_status': False, 'retweet_count': 0, 'favorite_count': 0, 'favorited': False, 'retweeted': False, 'lang': 'en'}, {'created_at': 'Fri Aug 20 14:44:44 +0000 2021', 'id': 1428729720481349632, 'id_str': '1428729720481349632', 'text': '@XiaomiIndia Ans 4 - Option (A) is right answer  #MidWeekMiQuiz, #Mi11X, #Mi11XPro &amp; #Mi11XSeries', 'truncated': False, 'entities': {'hashtags': [{'text': 'MidWeekMiQuiz', 'indices': [49, 63]}, {'text': 'Mi11X', 'indices': [65, 71]}, {'text': 'Mi11XPro', 'indices': [73, 82]}, {'text': 'Mi11XSeries', 'indices': [89, 101]}], 'symbols': [], 'user_mentions': [{'screen_name': 'XiaomiIndia', 'name': 'Mi India', 'id': 2646263522, 'id_str': '2646263522', 'indices': [0, 12]}], 'urls': []}, 'metadata': {'iso_language_code': 'en', 'result_type': 'recent'}, 'source': '<a href=\"http://twitter.com/download/android\" rel=\"nofollow\">Twitter for Android</a>', 'in_reply_to_status_id': 1427920227531038722, 'in_reply_to_status_id_str': '1427920227531038722', 'in_reply_to_user_id': 2646263522, 'in_reply_to_user_id_str': '2646263522', 'in_reply_to_screen_name': 'XiaomiIndia', 'user': {'id': 996403208875532289, 'id_str': '996403208875532289', 'name': 'Prashant | India 🇮🇳', 'screen_name': 'am_pacific', 'location': 'India', 'description': '∆ pexelspacific ∆\\nIG - https://t.co/8WmuM64YGa', 'url': 'https://t.co/1a6Nd7npMx', 'entities': {'url': {'urls': [{'url': 'https://t.co/1a6Nd7npMx', 'expanded_url': 'https://www.pexels.com/@pacific', 'display_url': 'pexels.com/@pacific', 'indices': [0, 23]}]}, 'description': {'urls': [{'url': 'https://t.co/8WmuM64YGa', 'expanded_url': 'https://www.instagram.com/pacific24/', 'display_url': 'instagram.com/pacific24/', 'indices': [23, 46]}]}}, 'protected': False, 'followers_count': 78, 'friends_count': 84, 'listed_count': 0, 'created_at': 'Tue May 15 14:53:32 +0000 2018', 'favourites_count': 3479, 'utc_offset': None, 'time_zone': None, 'geo_enabled': True, 'verified': False, 'statuses_count': 22011, 'lang': None, 'contributors_enabled': False, 'is_translator': False, 'is_translation_enabled': False, 'profile_background_color': 'F5F8FA', 'profile_background_image_url': None, 'profile_background_image_url_https': None, 'profile_background_tile': False, 'profile_image_url': 'http://pbs.twimg.com/profile_images/1384086260663287814/X-Z6nhON_normal.jpg', 'profile_image_url_https': 'https://pbs.twimg.com/profile_images/1384086260663287814/X-Z6nhON_normal.jpg', 'profile_banner_url': 'https://pbs.twimg.com/profile_banners/996403208875532289/1628779993', 'profile_link_color': '1DA1F2', 'profile_sidebar_border_color': 'C0DEED', 'profile_sidebar_fill_color': 'DDEEF6', 'profile_text_color': '333333', 'profile_use_background_image': True, 'has_extended_profile': False, 'default_profile': True, 'default_profile_image': False, 'following': False, 'follow_request_sent': False, 'notifications': False, 'translator_type': 'none', 'withheld_in_countries': []}, 'geo': None, 'coordinates': None, 'place': None, 'contributors': None, 'is_quote_status': False, 'retweet_count': 0, 'favorite_count': 0, 'favorited': False, 'retweeted': False, 'lang': 'en'}, {'created_at': 'Fri Aug 20 14:44:08 +0000 2021', 'id': 1428729570614603780, 'id_str': '1428729570614603780', 'text': '@XiaomiIndia Ans 3 - Option (A) is right answer  #MidWeekMiQuiz, #Mi11X, #Mi11XPro &amp; #Mi11XSeries', 'truncated': False, 'entities': {'hashtags': [{'text': 'MidWeekMiQuiz', 'indices': [49, 63]}, {'text': 'Mi11X', 'indices': [65, 71]}, {'text': 'Mi11XPro', 'indices': [73, 82]}, {'text': 'Mi11XSeries', 'indices': [89, 101]}], 'symbols': [], 'user_mentions': [{'screen_name': 'XiaomiIndia', 'name': 'Mi India', 'id': 2646263522, 'id_str': '2646263522', 'indices': [0, 12]}], 'urls': []}, 'metadata': {'iso_language_code': 'en', 'result_type': 'recent'}, 'source': '<a href=\"http://twitter.com/download/android\" rel=\"nofollow\">Twitter for Android</a>', 'in_reply_to_status_id': 1427903983339720715, 'in_reply_to_status_id_str': '1427903983339720715', 'in_reply_to_user_id': 2646263522, 'in_reply_to_user_id_str': '2646263522', 'in_reply_to_screen_name': 'XiaomiIndia', 'user': {'id': 996403208875532289, 'id_str': '996403208875532289', 'name': 'Prashant | India 🇮🇳', 'screen_name': 'am_pacific', 'location': 'India', 'description': '∆ pexelspacific ∆\\nIG - https://t.co/8WmuM64YGa', 'url': 'https://t.co/1a6Nd7npMx', 'entities': {'url': {'urls': [{'url': 'https://t.co/1a6Nd7npMx', 'expanded_url': 'https://www.pexels.com/@pacific', 'display_url': 'pexels.com/@pacific', 'indices': [0, 23]}]}, 'description': {'urls': [{'url': 'https://t.co/8WmuM64YGa', 'expanded_url': 'https://www.instagram.com/pacific24/', 'display_url': 'instagram.com/pacific24/', 'indices': [23, 46]}]}}, 'protected': False, 'followers_count': 78, 'friends_count': 84, 'listed_count': 0, 'created_at': 'Tue May 15 14:53:32 +0000 2018', 'favourites_count': 3479, 'utc_offset': None, 'time_zone': None, 'geo_enabled': True, 'verified': False, 'statuses_count': 22011, 'lang': None, 'contributors_enabled': False, 'is_translator': False, 'is_translation_enabled': False, 'profile_background_color': 'F5F8FA', 'profile_background_image_url': None, 'profile_background_image_url_https': None, 'profile_background_tile': False, 'profile_image_url': 'http://pbs.twimg.com/profile_images/1384086260663287814/X-Z6nhON_normal.jpg', 'profile_image_url_https': 'https://pbs.twimg.com/profile_images/1384086260663287814/X-Z6nhON_normal.jpg', 'profile_banner_url': 'https://pbs.twimg.com/profile_banners/996403208875532289/1628779993', 'profile_link_color': '1DA1F2', 'profile_sidebar_border_color': 'C0DEED', 'profile_sidebar_fill_color': 'DDEEF6', 'profile_text_color': '333333', 'profile_use_background_image': True, 'has_extended_profile': False, 'default_profile': True, 'default_profile_image': False, 'following': False, 'follow_request_sent': False, 'notifications': False, 'translator_type': 'none', 'withheld_in_countries': []}, 'geo': None, 'coordinates': None, 'place': None, 'contributors': None, 'is_quote_status': False, 'retweet_count': 0, 'favorite_count': 0, 'favorited': False, 'retweeted': False, 'lang': 'en'}, {'created_at': 'Fri Aug 20 14:43:23 +0000 2021', 'id': 1428729379400523776, 'id_str': '1428729379400523776', 'text': '@XiaomiIndia Ans 2 - Option (C) is right answer  #MidWeekMiQuiz, #Mi11X, #Mi11XPro &amp; #Mi11XSeries', 'truncated': False, 'entities': {'hashtags': [{'text': 'MidWeekMiQuiz', 'indices': [49, 63]}, {'text': 'Mi11X', 'indices': [65, 71]}, {'text': 'Mi11XPro', 'indices': [73, 82]}, {'text': 'Mi11XSeries', 'indices': [89, 101]}], 'symbols': [], 'user_mentions': [{'screen_name': 'XiaomiIndia', 'name': 'Mi India', 'id': 2646263522, 'id_str': '2646263522', 'indices': [0, 12]}], 'urls': []}, 'metadata': {'iso_language_code': 'en', 'result_type': 'recent'}, 'source': '<a href=\"http://twitter.com/download/android\" rel=\"nofollow\">Twitter for Android</a>', 'in_reply_to_status_id': 1427891384694894592, 'in_reply_to_status_id_str': '1427891384694894592', 'in_reply_to_user_id': 2646263522, 'in_reply_to_user_id_str': '2646263522', 'in_reply_to_screen_name': 'XiaomiIndia', 'user': {'id': 996403208875532289, 'id_str': '996403208875532289', 'name': 'Prashant | India 🇮🇳', 'screen_name': 'am_pacific', 'location': 'India', 'description': '∆ pexelspacific ∆\\nIG - https://t.co/8WmuM64YGa', 'url': 'https://t.co/1a6Nd7npMx', 'entities': {'url': {'urls': [{'url': 'https://t.co/1a6Nd7npMx', 'expanded_url': 'https://www.pexels.com/@pacific', 'display_url': 'pexels.com/@pacific', 'indices': [0, 23]}]}, 'description': {'urls': [{'url': 'https://t.co/8WmuM64YGa', 'expanded_url': 'https://www.instagram.com/pacific24/', 'display_url': 'instagram.com/pacific24/', 'indices': [23, 46]}]}}, 'protected': False, 'followers_count': 78, 'friends_count': 84, 'listed_count': 0, 'created_at': 'Tue May 15 14:53:32 +0000 2018', 'favourites_count': 3479, 'utc_offset': None, 'time_zone': None, 'geo_enabled': True, 'verified': False, 'statuses_count': 22011, 'lang': None, 'contributors_enabled': False, 'is_translator': False, 'is_translation_enabled': False, 'profile_background_color': 'F5F8FA', 'profile_background_image_url': None, 'profile_background_image_url_https': None, 'profile_background_tile': False, 'profile_image_url': 'http://pbs.twimg.com/profile_images/1384086260663287814/X-Z6nhON_normal.jpg', 'profile_image_url_https': 'https://pbs.twimg.com/profile_images/1384086260663287814/X-Z6nhON_normal.jpg', 'profile_banner_url': 'https://pbs.twimg.com/profile_banners/996403208875532289/1628779993', 'profile_link_color': '1DA1F2', 'profile_sidebar_border_color': 'C0DEED', 'profile_sidebar_fill_color': 'DDEEF6', 'profile_text_color': '333333', 'profile_use_background_image': True, 'has_extended_profile': False, 'default_profile': True, 'default_profile_image': False, 'following': False, 'follow_request_sent': False, 'notifications': False, 'translator_type': 'none', 'withheld_in_countries': []}, 'geo': None, 'coordinates': None, 'place': None, 'contributors': None, 'is_quote_status': False, 'retweet_count': 0, 'favorite_count': 0, 'favorited': False, 'retweeted': False, 'lang': 'en'}, {'created_at': 'Fri Aug 20 14:42:26 +0000 2021', 'id': 1428729141675761665, 'id_str': '1428729141675761665', 'text': '@XiaomiIndia Ans 1 - Option (A) is right answer  #MidWeekMiQuiz, #Mi11X, #Mi11XPro &amp; #Mi11XSeries', 'truncated': False, 'entities': {'hashtags': [{'text': 'MidWeekMiQuiz', 'indices': [49, 63]}, {'text': 'Mi11X', 'indices': [65, 71]}, {'text': 'Mi11XPro', 'indices': [73, 82]}, {'text': 'Mi11XSeries', 'indices': [89, 101]}], 'symbols': [], 'user_mentions': [{'screen_name': 'XiaomiIndia', 'name': 'Mi India', 'id': 2646263522, 'id_str': '2646263522', 'indices': [0, 12]}], 'urls': []}, 'metadata': {'iso_language_code': 'en', 'result_type': 'recent'}, 'source': '<a href=\"http://twitter.com/download/android\" rel=\"nofollow\">Twitter for Android</a>', 'in_reply_to_status_id': 1427873385745244161, 'in_reply_to_status_id_str': '1427873385745244161', 'in_reply_to_user_id': 2646263522, 'in_reply_to_user_id_str': '2646263522', 'in_reply_to_screen_name': 'XiaomiIndia', 'user': {'id': 996403208875532289, 'id_str': '996403208875532289', 'name': 'Prashant | India 🇮🇳', 'screen_name': 'am_pacific', 'location': 'India', 'description': '∆ pexelspacific ∆\\nIG - https://t.co/8WmuM64YGa', 'url': 'https://t.co/1a6Nd7npMx', 'entities': {'url': {'urls': [{'url': 'https://t.co/1a6Nd7npMx', 'expanded_url': 'https://www.pexels.com/@pacific', 'display_url': 'pexels.com/@pacific', 'indices': [0, 23]}]}, 'description': {'urls': [{'url': 'https://t.co/8WmuM64YGa', 'expanded_url': 'https://www.instagram.com/pacific24/', 'display_url': 'instagram.com/pacific24/', 'indices': [23, 46]}]}}, 'protected': False, 'followers_count': 78, 'friends_count': 84, 'listed_count': 0, 'created_at': 'Tue May 15 14:53:32 +0000 2018', 'favourites_count': 3479, 'utc_offset': None, 'time_zone': None, 'geo_enabled': True, 'verified': False, 'statuses_count': 22011, 'lang': None, 'contributors_enabled': False, 'is_translator': False, 'is_translation_enabled': False, 'profile_background_color': 'F5F8FA', 'profile_background_image_url': None, 'profile_background_image_url_https': None, 'profile_background_tile': False, 'profile_image_url': 'http://pbs.twimg.com/profile_images/1384086260663287814/X-Z6nhON_normal.jpg', 'profile_image_url_https': 'https://pbs.twimg.com/profile_images/1384086260663287814/X-Z6nhON_normal.jpg', 'profile_banner_url': 'https://pbs.twimg.com/profile_banners/996403208875532289/1628779993', 'profile_link_color': '1DA1F2', 'profile_sidebar_border_color': 'C0DEED', 'profile_sidebar_fill_color': 'DDEEF6', 'profile_text_color': '333333', 'profile_use_background_image': True, 'has_extended_profile': False, 'default_profile': True, 'default_profile_image': False, 'following': False, 'follow_request_sent': False, 'notifications': False, 'translator_type': 'none', 'withheld_in_countries': []}, 'geo': None, 'coordinates': None, 'place': None, 'contributors': None, 'is_quote_status': False, 'retweet_count': 0, 'favorite_count': 0, 'favorited': False, 'retweeted': False, 'lang': 'en'}, {'created_at': 'Fri Aug 20 14:10:08 +0000 2021', 'id': 1428721014393905157, 'id_str': '1428721014393905157', 'text': 'RT @XiaomiIndia: Question 5👇:\\n\\nUse #MidWeekMiQuiz, #Mi11X, #Mi11XPro, #Mi11XSeries and tweet your answer, stand a chance to win an all-new…', 'truncated': False, 'entities': {'hashtags': [{'text': 'MidWeekMiQuiz', 'indices': [35, 49]}, {'text': 'Mi11X', 'indices': [51, 57]}, {'text': 'Mi11XPro', 'indices': [59, 68]}, {'text': 'Mi11XSeries', 'indices': [70, 82]}], 'symbols': [], 'user_mentions': [{'screen_name': 'XiaomiIndia', 'name': 'Mi India', 'id': 2646263522, 'id_str': '2646263522', 'indices': [3, 15]}], 'urls': []}, 'metadata': {'iso_language_code': 'en', 'result_type': 'recent'}, 'source': '<a href=\"http://twitter.com/download/android\" rel=\"nofollow\">Twitter for Android</a>', 'in_reply_to_status_id': None, 'in_reply_to_status_id_str': None, 'in_reply_to_user_id': None, 'in_reply_to_user_id_str': None, 'in_reply_to_screen_name': None, 'user': {'id': 1239090950896377857, 'id_str': '1239090950896377857', 'name': 'Kalpana45', 'screen_name': 'Kalpana454', 'location': '', 'description': 'contest freak', 'url': None, 'entities': {'description': {'urls': []}}, 'protected': False, 'followers_count': 25, 'friends_count': 319, 'listed_count': 0, 'created_at': 'Sun Mar 15 07:28:53 +0000 2020', 'favourites_count': 363, 'utc_offset': None, 'time_zone': None, 'geo_enabled': False, 'verified': False, 'statuses_count': 578, 'lang': None, 'contributors_enabled': False, 'is_translator': False, 'is_translation_enabled': False, 'profile_background_color': 'F5F8FA', 'profile_background_image_url': None, 'profile_background_image_url_https': None, 'profile_background_tile': False, 'profile_image_url': 'http://pbs.twimg.com/profile_images/1400185523625349122/kt-5mW2T_normal.jpg', 'profile_image_url_https': 'https://pbs.twimg.com/profile_images/1400185523625349122/kt-5mW2T_normal.jpg', 'profile_banner_url': 'https://pbs.twimg.com/profile_banners/1239090950896377857/1622665260', 'profile_link_color': '1DA1F2', 'profile_sidebar_border_color': 'C0DEED', 'profile_sidebar_fill_color': 'DDEEF6', 'profile_text_color': '333333', 'profile_use_background_image': True, 'has_extended_profile': False, 'default_profile': True, 'default_profile_image': False, 'following': False, 'follow_request_sent': False, 'notifications': False, 'translator_type': 'none', 'withheld_in_countries': []}, 'geo': None, 'coordinates': None, 'place': None, 'contributors': None, 'retweeted_status': {'created_at': 'Wed Aug 18 10:37:04 +0000 2021', 'id': 1427942617342353411, 'id_str': '1427942617342353411', 'text': 'Question 5👇:\\n\\nUse #MidWeekMiQuiz, #Mi11X, #Mi11XPro, #Mi11XSeries and tweet your answer, stand a chance to win an a… https://t.co/nja0S5AUqc', 'truncated': True, 'entities': {'hashtags': [{'text': 'MidWeekMiQuiz', 'indices': [18, 32]}, {'text': 'Mi11X', 'indices': [34, 40]}, {'text': 'Mi11XPro', 'indices': [42, 51]}, {'text': 'Mi11XSeries', 'indices': [53, 65]}], 'symbols': [], 'user_mentions': [], 'urls': [{'url': 'https://t.co/nja0S5AUqc', 'expanded_url': 'https://twitter.com/i/web/status/1427942617342353411', 'display_url': 'twitter.com/i/web/status/1…', 'indices': [117, 140]}]}, 'metadata': {'iso_language_code': 'en', 'result_type': 'recent'}, 'source': '<a href=\"http://twitter.com/download/android\" rel=\"nofollow\">Twitter for Android</a>', 'in_reply_to_status_id': None, 'in_reply_to_status_id_str': None, 'in_reply_to_user_id': None, 'in_reply_to_user_id_str': None, 'in_reply_to_screen_name': None, 'user': {'id': 2646263522, 'id_str': '2646263522', 'name': 'Mi India', 'screen_name': 'XiaomiIndia', 'location': 'India', 'description': \"India's #1SmartphoneBrand, #1SmartTVBrand, #1WearableBrand.\", 'url': 'https://t.co/81bHnzGhWl', 'entities': {'url': {'urls': [{'url': 'https://t.co/81bHnzGhWl', 'expanded_url': 'http://www.mi.com/in', 'display_url': 'mi.com/in', 'indices': [0, 23]}]}, 'description': {'urls': []}}, 'protected': False, 'followers_count': 1204507, 'friends_count': 29, 'listed_count': 609, 'created_at': 'Mon Jul 14 20:04:13 +0000 2014', 'favourites_count': 1465, 'utc_offset': None, 'time_zone': None, 'geo_enabled': False, 'verified': True, 'statuses_count': 16258, 'lang': None, 'contributors_enabled': False, 'is_translator': False, 'is_translation_enabled': False, 'profile_background_color': 'C0DEED', 'profile_background_image_url': 'http://abs.twimg.com/images/themes/theme1/bg.png', 'profile_background_image_url_https': 'https://abs.twimg.com/images/themes/theme1/bg.png', 'profile_background_tile': False, 'profile_image_url': 'http://pbs.twimg.com/profile_images/1394198565778464768/IRSbNxQo_normal.png', 'profile_image_url_https': 'https://pbs.twimg.com/profile_images/1394198565778464768/IRSbNxQo_normal.png', 'profile_banner_url': 'https://pbs.twimg.com/profile_banners/2646263522/1625625025', 'profile_link_color': 'FF4A00', 'profile_sidebar_border_color': 'C0DEED', 'profile_sidebar_fill_color': 'DDEEF6', 'profile_text_color': '333333', 'profile_use_background_image': True, 'has_extended_profile': False, 'default_profile': False, 'default_profile_image': False, 'following': False, 'follow_request_sent': False, 'notifications': False, 'translator_type': 'none', 'withheld_in_countries': []}, 'geo': None, 'coordinates': None, 'place': None, 'contributors': None, 'is_quote_status': False, 'retweet_count': 860, 'favorite_count': 1170, 'favorited': False, 'retweeted': False, 'possibly_sensitive': False, 'lang': 'en'}, 'is_quote_status': False, 'retweet_count': 860, 'favorite_count': 0, 'favorited': False, 'retweeted': False, 'lang': 'en'}, {'created_at': 'Fri Aug 20 13:44:17 +0000 2021', 'id': 1428714506520207367, 'id_str': '1428714506520207367', 'text': 'RT @XiaomiIndia: Here comes Question 1👇:\\n\\nRT and answer the question correctly using #MidWeekMiQuiz, #Mi11X, #Mi11XPro &amp; #Mi11XSeries and s…', 'truncated': False, 'entities': {'hashtags': [{'text': 'MidWeekMiQuiz', 'indices': [85, 99]}, {'text': 'Mi11X', 'indices': [101, 107]}, {'text': 'Mi11XPro', 'indices': [109, 118]}, {'text': 'Mi11XSeries', 'indices': [125, 137]}], 'symbols': [], 'user_mentions': [{'screen_name': 'XiaomiIndia', 'name': 'Mi India', 'id': 2646263522, 'id_str': '2646263522', 'indices': [3, 15]}], 'urls': []}, 'metadata': {'iso_language_code': 'en', 'result_type': 'recent'}, 'source': '<a href=\"http://twitter.com/download/android\" rel=\"nofollow\">Twitter for Android</a>', 'in_reply_to_status_id': None, 'in_reply_to_status_id_str': None, 'in_reply_to_user_id': None, 'in_reply_to_user_id_str': None, 'in_reply_to_screen_name': None, 'user': {'id': 1101783079276949504, 'id_str': '1101783079276949504', 'name': 'ROhiT KuM@R', 'screen_name': 'RohitKumar2405', 'location': 'Vijayawada', 'description': '', 'url': None, 'entities': {'description': {'urls': []}}, 'protected': False, 'followers_count': 5, 'friends_count': 66, 'listed_count': 0, 'created_at': 'Sat Mar 02 09:55:31 +0000 2019', 'favourites_count': 193, 'utc_offset': None, 'time_zone': None, 'geo_enabled': False, 'verified': False, 'statuses_count': 149, 'lang': None, 'contributors_enabled': False, 'is_translator': False, 'is_translation_enabled': False, 'profile_background_color': 'F5F8FA', 'profile_background_image_url': None, 'profile_background_image_url_https': None, 'profile_background_tile': False, 'profile_image_url': 'http://pbs.twimg.com/profile_images/1345061187340234754/-XtqfHpZ_normal.jpg', 'profile_image_url_https': 'https://pbs.twimg.com/profile_images/1345061187340234754/-XtqfHpZ_normal.jpg', 'profile_link_color': '1DA1F2', 'profile_sidebar_border_color': 'C0DEED', 'profile_sidebar_fill_color': 'DDEEF6', 'profile_text_color': '333333', 'profile_use_background_image': True, 'has_extended_profile': True, 'default_profile': True, 'default_profile_image': False, 'following': False, 'follow_request_sent': False, 'notifications': False, 'translator_type': 'none', 'withheld_in_countries': []}, 'geo': None, 'coordinates': None, 'place': None, 'contributors': None, 'retweeted_status': {'created_at': 'Wed Aug 18 06:01:58 +0000 2021', 'id': 1427873385745244161, 'id_str': '1427873385745244161', 'text': 'Here comes Question 1👇:\\n\\nRT and answer the question correctly using #MidWeekMiQuiz, #Mi11X, #Mi11XPro &amp;… https://t.co/W7nywjCrQi', 'truncated': True, 'entities': {'hashtags': [{'text': 'MidWeekMiQuiz', 'indices': [68, 82]}, {'text': 'Mi11X', 'indices': [84, 90]}, {'text': 'Mi11XPro', 'indices': [92, 101]}], 'symbols': [], 'user_mentions': [], 'urls': [{'url': 'https://t.co/W7nywjCrQi', 'expanded_url': 'https://twitter.com/i/web/status/1427873385745244161', 'display_url': 'twitter.com/i/web/status/1…', 'indices': [109, 132]}]}, 'metadata': {'iso_language_code': 'en', 'result_type': 'recent'}, 'source': '<a href=\"http://twitter.com/download/android\" rel=\"nofollow\">Twitter for Android</a>', 'in_reply_to_status_id': None, 'in_reply_to_status_id_str': None, 'in_reply_to_user_id': None, 'in_reply_to_user_id_str': None, 'in_reply_to_screen_name': None, 'user': {'id': 2646263522, 'id_str': '2646263522', 'name': 'Mi India', 'screen_name': 'XiaomiIndia', 'location': 'India', 'description': \"India's #1SmartphoneBrand, #1SmartTVBrand, #1WearableBrand.\", 'url': 'https://t.co/81bHnzGhWl', 'entities': {'url': {'urls': [{'url': 'https://t.co/81bHnzGhWl', 'expanded_url': 'http://www.mi.com/in', 'display_url': 'mi.com/in', 'indices': [0, 23]}]}, 'description': {'urls': []}}, 'protected': False, 'followers_count': 1204507, 'friends_count': 29, 'listed_count': 609, 'created_at': 'Mon Jul 14 20:04:13 +0000 2014', 'favourites_count': 1465, 'utc_offset': None, 'time_zone': None, 'geo_enabled': False, 'verified': True, 'statuses_count': 16258, 'lang': None, 'contributors_enabled': False, 'is_translator': False, 'is_translation_enabled': False, 'profile_background_color': 'C0DEED', 'profile_background_image_url': 'http://abs.twimg.com/images/themes/theme1/bg.png', 'profile_background_image_url_https': 'https://abs.twimg.com/images/themes/theme1/bg.png', 'profile_background_tile': False, 'profile_image_url': 'http://pbs.twimg.com/profile_images/1394198565778464768/IRSbNxQo_normal.png', 'profile_image_url_https': 'https://pbs.twimg.com/profile_images/1394198565778464768/IRSbNxQo_normal.png', 'profile_banner_url': 'https://pbs.twimg.com/profile_banners/2646263522/1625625025', 'profile_link_color': 'FF4A00', 'profile_sidebar_border_color': 'C0DEED', 'profile_sidebar_fill_color': 'DDEEF6', 'profile_text_color': '333333', 'profile_use_background_image': True, 'has_extended_profile': False, 'default_profile': False, 'default_profile_image': False, 'following': False, 'follow_request_sent': False, 'notifications': False, 'translator_type': 'none', 'withheld_in_countries': []}, 'geo': None, 'coordinates': None, 'place': None, 'contributors': None, 'is_quote_status': False, 'retweet_count': 968, 'favorite_count': 1302, 'favorited': False, 'retweeted': False, 'possibly_sensitive': False, 'lang': 'en'}, 'is_quote_status': False, 'retweet_count': 968, 'favorite_count': 0, 'favorited': False, 'retweeted': False, 'lang': 'en'}, {'created_at': 'Fri Aug 20 13:43:16 +0000 2021', 'id': 1428714250042626064, 'id_str': '1428714250042626064', 'text': \"@XiaomiIndia #MidWeekMiQuiz #mi11x #mi11xpro #Mi11XSeries \\nThe answer is option 'A'(Qualcomm Snapdragon 888/870)\\nMi… https://t.co/jXYbQLGq87\", 'truncated': True, 'entities': {'hashtags': [{'text': 'MidWeekMiQuiz', 'indices': [13, 27]}, {'text': 'mi11x', 'indices': [28, 34]}, {'text': 'mi11xpro', 'indices': [35, 44]}, {'text': 'Mi11XSeries', 'indices': [45, 57]}], 'symbols': [], 'user_mentions': [{'screen_name': 'XiaomiIndia', 'name': 'Mi India', 'id': 2646263522, 'id_str': '2646263522', 'indices': [0, 12]}], 'urls': [{'url': 'https://t.co/jXYbQLGq87', 'expanded_url': 'https://twitter.com/i/web/status/1428714250042626064', 'display_url': 'twitter.com/i/web/status/1…', 'indices': [117, 140]}]}, 'metadata': {'iso_language_code': 'de', 'result_type': 'recent'}, 'source': '<a href=\"http://twitter.com/download/android\" rel=\"nofollow\">Twitter for Android</a>', 'in_reply_to_status_id': 1427873385745244161, 'in_reply_to_status_id_str': '1427873385745244161', 'in_reply_to_user_id': 2646263522, 'in_reply_to_user_id_str': '2646263522', 'in_reply_to_screen_name': 'XiaomiIndia', 'user': {'id': 1101783079276949504, 'id_str': '1101783079276949504', 'name': 'ROhiT KuM@R', 'screen_name': 'RohitKumar2405', 'location': 'Vijayawada', 'description': '', 'url': None, 'entities': {'description': {'urls': []}}, 'protected': False, 'followers_count': 5, 'friends_count': 66, 'listed_count': 0, 'created_at': 'Sat Mar 02 09:55:31 +0000 2019', 'favourites_count': 193, 'utc_offset': None, 'time_zone': None, 'geo_enabled': False, 'verified': False, 'statuses_count': 149, 'lang': None, 'contributors_enabled': False, 'is_translator': False, 'is_translation_enabled': False, 'profile_background_color': 'F5F8FA', 'profile_background_image_url': None, 'profile_background_image_url_https': None, 'profile_background_tile': False, 'profile_image_url': 'http://pbs.twimg.com/profile_images/1345061187340234754/-XtqfHpZ_normal.jpg', 'profile_image_url_https': 'https://pbs.twimg.com/profile_images/1345061187340234754/-XtqfHpZ_normal.jpg', 'profile_link_color': '1DA1F2', 'profile_sidebar_border_color': 'C0DEED', 'profile_sidebar_fill_color': 'DDEEF6', 'profile_text_color': '333333', 'profile_use_background_image': True, 'has_extended_profile': True, 'default_profile': True, 'default_profile_image': False, 'following': False, 'follow_request_sent': False, 'notifications': False, 'translator_type': 'none', 'withheld_in_countries': []}, 'geo': None, 'coordinates': None, 'place': None, 'contributors': None, 'is_quote_status': False, 'retweet_count': 0, 'favorite_count': 0, 'favorited': False, 'retweeted': False, 'lang': 'de'}], 'search_metadata': {'completed_in': 0.044, 'max_id': 1428734259645214720, 'max_id_str': '1428734259645214720', 'next_results': '?max_id=1428714250042626063&q=%23Mi11XPro&count=10&include_entities=1', 'query': '%23Mi11XPro', 'refresh_url': '?since_id=1428734259645214720&q=%23Mi11XPro&include_entities=1', 'count': 10, 'since_id': 0, 'since_id_str': '0'}}\n"
     ]
    }
   ],
   "source": [
    "q='#Mi11XPro'\n",
    "count = 10\n",
    "from urllib.parse import unquote\n",
    "search_results = twitter_api.search.tweets(q=q, count=count)\n",
    "statusess = search_results['statuses']\n",
    "print(search_results)"
   ]
  },
  {
   "cell_type": "code",
   "execution_count": 9,
   "metadata": {},
   "outputs": [
    {
     "name": "stdout",
     "output_type": "stream",
     "text": [
      "{\n",
      " \"created_at\": \"Fri Aug 20 15:02:46 +0000 2021\",\n",
      " \"id\": 1428734259645214720,\n",
      " \"id_str\": \"1428734259645214720\",\n",
      " \"text\": \"\\ud83d\\udc49 Amazon Youth Edition Spin and Win Quiz Contest Answers\\n\\n\\ud83d\\udc49 https://t.co/ppaDYjTIMK\\n\\n#BitsCraze #AmazonQuiz\\u2026 https://t.co/QaN9r4nh0b\",\n",
      " \"truncated\": true,\n",
      " \"entities\": {\n",
      "  \"hashtags\": [\n",
      "   {\n",
      "    \"text\": \"BitsCraze\",\n",
      "    \"indices\": [\n",
      "     85,\n",
      "     95\n",
      "    ]\n",
      "   },\n",
      "   {\n",
      "    \"text\": \"AmazonQuiz\",\n",
      "    \"indices\": [\n",
      "     96,\n",
      "     107\n",
      "    ]\n",
      "   }\n",
      "  ],\n",
      "  \"symbols\": [],\n",
      "  \"user_mentions\": [],\n",
      "  \"urls\": [\n",
      "   {\n",
      "    \"url\": \"https://t.co/ppaDYjTIMK\",\n",
      "    \"expanded_url\": \"http://bitscraze.blogspot.com/2021/08/amazon-youth-edition-spin-and-win-quiz.html\",\n",
      "    \"display_url\": \"bitscraze.blogspot.com/2021/08/amazon\\u2026\",\n",
      "    \"indices\": [\n",
      "     60,\n",
      "     83\n",
      "    ]\n",
      "   },\n",
      "   {\n",
      "    \"url\": \"https://t.co/QaN9r4nh0b\",\n",
      "    \"expanded_url\": \"https://twitter.com/i/web/status/1428734259645214720\",\n",
      "    \"display_url\": \"twitter.com/i/web/status/1\\u2026\",\n",
      "    \"indices\": [\n",
      "     109,\n",
      "     132\n",
      "    ]\n",
      "   }\n",
      "  ]\n",
      " },\n",
      " \"metadata\": {\n",
      "  \"iso_language_code\": \"en\",\n",
      "  \"result_type\": \"recent\"\n",
      " },\n",
      " \"source\": \"<a href=\\\"http://twitter.com/download/android\\\" rel=\\\"nofollow\\\">Twitter for Android</a>\",\n",
      " \"in_reply_to_status_id\": null,\n",
      " \"in_reply_to_status_id_str\": null,\n",
      " \"in_reply_to_user_id\": null,\n",
      " \"in_reply_to_user_id_str\": null,\n",
      " \"in_reply_to_screen_name\": null,\n",
      " \"user\": {\n",
      "  \"id\": 1420330278615093250,\n",
      "  \"id_str\": \"1420330278615093250\",\n",
      "  \"name\": \"BitsCraze\",\n",
      "  \"screen_name\": \"BitsCraze\",\n",
      "  \"location\": \"\",\n",
      "  \"description\": \"\\ud83d\\udc49 Get curated informative bits on Amazon, Flipkart Quiz contests and many more !!\\n\\nJoin us on Telegram : https://t.co/XRXMmokzQL\",\n",
      "  \"url\": \"https://t.co/6le6LTlSm5\",\n",
      "  \"entities\": {\n",
      "   \"url\": {\n",
      "    \"urls\": [\n",
      "     {\n",
      "      \"url\": \"https://t.co/6le6LTlSm5\",\n",
      "      \"expanded_url\": \"https://bitscraze.blogspot.com/?m=1\",\n",
      "      \"display_url\": \"bitscraze.blogspot.com/?m=1\",\n",
      "      \"indices\": [\n",
      "       0,\n",
      "       23\n",
      "      ]\n",
      "     }\n",
      "    ]\n",
      "   },\n",
      "   \"description\": {\n",
      "    \"urls\": [\n",
      "     {\n",
      "      \"url\": \"https://t.co/XRXMmokzQL\",\n",
      "      \"expanded_url\": \"https://t.me/bitscraze\",\n",
      "      \"display_url\": \"t.me/bitscraze\",\n",
      "      \"indices\": [\n",
      "       105,\n",
      "       128\n",
      "      ]\n",
      "     }\n",
      "    ]\n",
      "   }\n",
      "  },\n",
      "  \"protected\": false,\n",
      "  \"followers_count\": 3,\n",
      "  \"friends_count\": 4,\n",
      "  \"listed_count\": 0,\n",
      "  \"created_at\": \"Wed Jul 28 10:28:37 +0000 2021\",\n",
      "  \"favourites_count\": 295,\n",
      "  \"utc_offset\": null,\n",
      "  \"time_zone\": null,\n",
      "  \"geo_enabled\": false,\n",
      "  \"verified\": false,\n",
      "  \"statuses_count\": 210,\n",
      "  \"lang\": null,\n",
      "  \"contributors_enabled\": false,\n",
      "  \"is_translator\": false,\n",
      "  \"is_translation_enabled\": false,\n",
      "  \"profile_background_color\": \"F5F8FA\",\n",
      "  \"profile_background_image_url\": null,\n",
      "  \"profile_background_image_url_https\": null,\n",
      "  \"profile_background_tile\": false,\n",
      "  \"profile_image_url\": \"http://pbs.twimg.com/profile_images/1420337419086270465/-VOjPkem_normal.jpg\",\n",
      "  \"profile_image_url_https\": \"https://pbs.twimg.com/profile_images/1420337419086270465/-VOjPkem_normal.jpg\",\n",
      "  \"profile_link_color\": \"1DA1F2\",\n",
      "  \"profile_sidebar_border_color\": \"C0DEED\",\n",
      "  \"profile_sidebar_fill_color\": \"DDEEF6\",\n",
      "  \"profile_text_color\": \"333333\",\n",
      "  \"profile_use_background_image\": true,\n",
      "  \"has_extended_profile\": false,\n",
      "  \"default_profile\": true,\n",
      "  \"default_profile_image\": false,\n",
      "  \"following\": false,\n",
      "  \"follow_request_sent\": false,\n",
      "  \"notifications\": false,\n",
      "  \"translator_type\": \"none\",\n",
      "  \"withheld_in_countries\": []\n",
      " },\n",
      " \"geo\": null,\n",
      " \"coordinates\": null,\n",
      " \"place\": null,\n",
      " \"contributors\": null,\n",
      " \"is_quote_status\": false,\n",
      " \"retweet_count\": 0,\n",
      " \"favorite_count\": 1,\n",
      " \"favorited\": false,\n",
      " \"retweeted\": false,\n",
      " \"possibly_sensitive\": false,\n",
      " \"lang\": \"en\"\n",
      "}\n"
     ]
    }
   ],
   "source": [
    "print(json.dumps(statusess[0], indent=1))"
   ]
  },
  {
   "cell_type": "markdown",
   "metadata": {},
   "source": [
    "### 5. Extract text, screen names and hashtags from tweets"
   ]
  },
  {
   "cell_type": "code",
   "execution_count": 13,
   "metadata": {},
   "outputs": [
    {
     "name": "stdout",
     "output_type": "stream",
     "text": [
      "[\n",
      " \"\\ud83d\\udc49 Amazon Youth Edition Spin and Win Quiz Contest Answers\\n\\n\\ud83d\\udc49 https://t.co/ppaDYjTIMK\\n\\n#BitsCraze #AmazonQuiz\\u2026 https://t.co/QaN9r4nh0b\",\n",
      " \"\\ud83d\\udc49 Amazon Mi Band 6 Quiz Contest Answers\\n\\n\\ud83d\\udc49 https://t.co/XJAURfN1D8\\n\\n#AmazonSpecials #TheFuturelsSmartFitness\\u2026 https://t.co/Bf5Ycg39I0\",\n",
      " \"@XiaomiIndia Ans 2 - Option (C) and  (D) are right answer because Mi11X has Qualcomm \\u00aeAdreno\\u2122650 GPU but Mi11XPro h\\u2026 https://t.co/M0fZ03tS5m\",\n",
      " \"@XiaomiIndia Ans 4 - Option (A) is right answer  #MidWeekMiQuiz, #Mi11X, #Mi11XPro &amp; #Mi11XSeries\",\n",
      " \"@XiaomiIndia Ans 3 - Option (A) is right answer  #MidWeekMiQuiz, #Mi11X, #Mi11XPro &amp; #Mi11XSeries\"\n",
      "]\n",
      "[\n",
      " \"XiaomiIndia\",\n",
      " \"XiaomiIndia\",\n",
      " \"XiaomiIndia\",\n",
      " \"XiaomiIndia\",\n",
      " \"XiaomiIndia\"\n",
      "]\n",
      "[\n",
      " \"BitsCraze\",\n",
      " \"AmazonQuiz\",\n",
      " \"AmazonSpecials\",\n",
      " \"TheFuturelsSmartFitness\",\n",
      " \"MidWeekMiQuiz\"\n",
      "]\n",
      "[\n",
      " \"\\ud83d\\udc49\",\n",
      " \"Amazon\",\n",
      " \"Youth\",\n",
      " \"Edition\",\n",
      " \"Spin\"\n",
      "]\n"
     ]
    }
   ],
   "source": [
    "status_texts = [ status['text'] \n",
    "                 for status in statusess ]\n",
    "\n",
    "screen_names = [ user_mention['screen_name'] \n",
    "                 for status in statusess\n",
    "                     for user_mention in status['entities']['user_mentions'] ]\n",
    "\n",
    "hashtags = [ hashtag['text'] \n",
    "             for status in statusess\n",
    "                 for hashtag in status['entities']['hashtags'] ]\n",
    "\n",
    "# Compute a collection of all words from all tweets\n",
    "words = [ w \n",
    "          for t in status_texts \n",
    "              for w in t.split() ]\n",
    "\n",
    "# Explore the first 5 items for each...\n",
    "\n",
    "print(json.dumps(status_texts[0:5], indent=1))\n",
    "print(json.dumps(screen_names[0:5], indent=1) )\n",
    "print(json.dumps(hashtags[0:5], indent=1))\n",
    "print(json.dumps(words[0:5], indent=1))"
   ]
  },
  {
   "cell_type": "markdown",
   "metadata": {},
   "source": [
    "### 6. Create a frequency distribution from the words of the tweets"
   ]
  },
  {
   "cell_type": "code",
   "execution_count": 14,
   "metadata": {},
   "outputs": [
    {
     "name": "stdout",
     "output_type": "stream",
     "text": [
      "[('answer', 7), ('#Mi11XSeries', 7), ('@XiaomiIndia', 6), ('#MidWeekMiQuiz,', 6), ('#Mi11X,', 6), ('and', 5), ('Ans', 5), ('-', 5), ('Option', 5), ('right', 5)]\n",
      "\n",
      "[('XiaomiIndia', 8)]\n",
      "\n",
      "[('MidWeekMiQuiz', 7), ('Mi11XSeries', 7), ('Mi11X', 6), ('Mi11XPro', 6), ('BitsCraze', 1), ('AmazonQuiz', 1), ('AmazonSpecials', 1), ('TheFuturelsSmartFitness', 1), ('mi11x', 1), ('mi11xpro', 1)]\n",
      "\n"
     ]
    }
   ],
   "source": [
    "from collections import Counter\n",
    "\n",
    "for item in [words, screen_names, hashtags]:\n",
    "    c = Counter(item)\n",
    "    print(c.most_common()[:10]) # top 10\n",
    "    print()"
   ]
  },
  {
   "cell_type": "markdown",
   "metadata": {},
   "source": [
    "### 7. Using prettytable library, print the above frequency distribution in the form of a table"
   ]
  },
  {
   "cell_type": "code",
   "execution_count": 17,
   "metadata": {},
   "outputs": [
    {
     "name": "stdout",
     "output_type": "stream",
     "text": [
      "+-----------------+-------+\n",
      "| Word            | Count |\n",
      "+-----------------+-------+\n",
      "| answer          |     7 |\n",
      "| #Mi11XSeries    |     7 |\n",
      "| @XiaomiIndia    |     6 |\n",
      "| #MidWeekMiQuiz, |     6 |\n",
      "| #Mi11X,         |     6 |\n",
      "| and             |     5 |\n",
      "| Ans             |     5 |\n",
      "| -               |     5 |\n",
      "| Option          |     5 |\n",
      "| right           |     5 |\n",
      "+-----------------+-------+\n",
      "+-------------+-------+\n",
      "| Screen Name | Count |\n",
      "+-------------+-------+\n",
      "| XiaomiIndia |     8 |\n",
      "+-------------+-------+\n",
      "+-------------------------+-------+\n",
      "| Hashtag                 | Count |\n",
      "+-------------------------+-------+\n",
      "| MidWeekMiQuiz           |     7 |\n",
      "| Mi11XSeries             |     7 |\n",
      "| Mi11X                   |     6 |\n",
      "| Mi11XPro                |     6 |\n",
      "| BitsCraze               |     1 |\n",
      "| AmazonQuiz              |     1 |\n",
      "| AmazonSpecials          |     1 |\n",
      "| TheFuturelsSmartFitness |     1 |\n",
      "| mi11x                   |     1 |\n",
      "| mi11xpro                |     1 |\n",
      "+-------------------------+-------+\n"
     ]
    }
   ],
   "source": [
    "from prettytable import PrettyTable\n",
    "\n",
    "for label, data in (('Word', words), \n",
    "                    ('Screen Name', screen_names), \n",
    "                    ('Hashtag', hashtags)):\n",
    "    pt = PrettyTable(field_names=[label, 'Count']) \n",
    "    c = Counter(data)\n",
    "    [ pt.add_row(kv) for kv in c.most_common()[:10] ]\n",
    "    pt.align[label], pt.align['Count'] = 'l', 'r' # Set column alignment\n",
    "    print(pt)"
   ]
  },
  {
   "cell_type": "markdown",
   "metadata": {},
   "source": [
    "### 8. Generate histograms of words, screen names and hastags"
   ]
  },
  {
   "cell_type": "code",
   "execution_count": 18,
   "metadata": {},
   "outputs": [
    {
     "data": {
      "image/png": "[encoded data removed]",
      "text/plain": [
       "<Figure size 432x288 with 1 Axes>"
      ]
     },
     "metadata": {
      "needs_background": "light"
     },
     "output_type": "display_data"
    },
    {
     "data": {
      "image/png": "[encoded data removed]",
      "text/plain": [
       "<Figure size 432x288 with 1 Axes>"
      ]
     },
     "metadata": {
      "needs_background": "light"
     },
     "output_type": "display_data"
    },
    {
     "data": {
      "image/png": "[encoded data removed]",
      "text/plain": [
       "<Figure size 432x288 with 1 Axes>"
      ]
     },
     "metadata": {
      "needs_background": "light"
     },
     "output_type": "display_data"
    },
    {
     "data": {
      "text/plain": [
       "<Figure size 432x288 with 0 Axes>"
      ]
     },
     "metadata": {},
     "output_type": "display_data"
    }
   ],
   "source": [
    "import matplotlib.pyplot as plt\n",
    "%matplotlib inline\n",
    "for label, data in (('Words', words), \n",
    "                    ('Screen Names', screen_names), \n",
    "                    ('Hashtags', hashtags)):\n",
    "\n",
    "    c = Counter(data)    # Build a frequency map for each set of data\n",
    "    plt.hist(list(c.values()))   # and plot the values\n",
    "    \n",
    "     \n",
    "    plt.title(label)   # Add a title and y-label\n",
    "    plt.ylabel(\"Number of items in bin\")\n",
    "    plt.xlabel(\"Bins (number of times an item appeared)\")\n",
    "    \n",
    "    plt.figure()   # ... and display as a new figure"
   ]
  }
 ],
 "metadata": {
  "kernelspec": {
   "display_name": "Python 3",
   "language": "python",
   "name": "python3"
  },
  "language_info": {
   "codemirror_mode": {
    "name": "ipython",
    "version": 3
   },
   "file_extension": ".py",
   "mimetype": "text/x-python",
   "name": "python",
   "nbconvert_exporter": "python",
   "pygments_lexer": "ipython3",
   "version": "3.8.8"
  }
 },
 "nbformat": 4,
 "nbformat_minor": 4
}
