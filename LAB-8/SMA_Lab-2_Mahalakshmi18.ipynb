{
 "cells": [
  {
   "cell_type": "markdown",
   "metadata": {},
   "source": [
    "### 205229118\n",
    "### Mahalakshmi.S"
   ]
  },
  {
   "cell_type": "markdown",
   "metadata": {},
   "source": [
    "### SMA Lab2. Real time crawling of tweets from Twitter (Part 2)\n",
    "\n",
    "### 1. Install and import twitter library "
   ]
  },
  {
   "cell_type": "code",
   "execution_count": 1,
   "metadata": {},
   "outputs": [],
   "source": [
    "import twitter\n",
    "import json"
   ]
  },
  {
   "cell_type": "markdown",
   "metadata": {},
   "source": [
    "### 2. Signup your twitter developer account and obtain the following credentials\n",
    "###  consumer_key = “…”\n",
    "###  consumer_secret = “ … “\n",
    "###  access_token = “ … “\n",
    "###  access_secret = “ … “ "
   ]
  },
  {
   "cell_type": "code",
   "execution_count": 2,
   "metadata": {},
   "outputs": [],
   "source": [
    "CONSUMER_KEY = 'jQkSc5TR31Vdkjn51Lgrm6Pgl'\n",
    "CONSUMER_SECRET = 'eAaRfKD64xSKAFTXeZy0r7RXKWif4PjHqL9D6Wtc2nrreLgI3J'\n",
    "OAUTH_TOKEN = '1426417914756825088-HVzGYrkMN5g7QBpoGdhqiHplPB5jFm'\n",
    "OAUTH_TOKEN_SECRET = '1SQlRCKwjsjJgNT3at4gbuscUd5glw4GMKun5McsXlmWo'"
   ]
  },
  {
   "cell_type": "markdown",
   "metadata": {},
   "source": [
    "### 3. Write code for crawling real time data from Twitter Streaming API."
   ]
  },
  {
   "cell_type": "code",
   "execution_count": 4,
   "metadata": {},
   "outputs": [
    {
     "name": "stdout",
     "output_type": "stream",
     "text": [
      "<twitter.api.Twitter object at 0x000001D90D274550>\n"
     ]
    }
   ],
   "source": [
    "auth = twitter.oauth.OAuth(OAUTH_TOKEN, OAUTH_TOKEN_SECRET,\n",
    "                           CONSUMER_KEY, CONSUMER_SECRET)\n",
    "\n",
    "twitter_api = twitter.Twitter(auth=auth)\n",
    "print(twitter_api)"
   ]
  },
  {
   "cell_type": "markdown",
   "metadata": {},
   "source": [
    "### 4. Crawl tweets using hashtags of your own"
   ]
  },
  {
   "cell_type": "code",
   "execution_count": 5,
   "metadata": {},
   "outputs": [
    {
     "name": "stdout",
     "output_type": "stream",
     "text": [
      "{'statuses': [{'created_at': 'Thu Aug 19 06:21:38 +0000 2021', 'id': 1428240723132837894, 'id_str': '1428240723132837894', 'text': 'RT @XiaomiIndia: Here comes Question 1👇:\\n\\nRT and answer the question correctly using #MidWeekMiQuiz, #Mi11X, #Mi11XPro &amp; #Mi11XSeries and s…', 'truncated': False, 'entities': {'hashtags': [{'text': 'MidWeekMiQuiz', 'indices': [85, 99]}, {'text': 'Mi11X', 'indices': [101, 107]}, {'text': 'Mi11XPro', 'indices': [109, 118]}, {'text': 'Mi11XSeries', 'indices': [125, 137]}], 'symbols': [], 'user_mentions': [{'screen_name': 'XiaomiIndia', 'name': 'Mi India', 'id': 2646263522, 'id_str': '2646263522', 'indices': [3, 15]}], 'urls': []}, 'metadata': {'iso_language_code': 'en', 'result_type': 'recent'}, 'source': '<a href=\"https://mobile.twitter.com\" rel=\"nofollow\">Twitter Web App</a>', 'in_reply_to_status_id': None, 'in_reply_to_status_id_str': None, 'in_reply_to_user_id': None, 'in_reply_to_user_id_str': None, 'in_reply_to_screen_name': None, 'user': {'id': 1412259786385551362, 'id_str': '1412259786385551362', 'name': 'PRANAV DAS K', 'screen_name': 'Pranavdask1', 'location': '', 'description': 'PROUD INDIAN 🇮🇳 TECH LOVER ❤️ FOOTBALL LOVER ⚽️❤️', 'url': None, 'entities': {'description': {'urls': []}}, 'protected': False, 'followers_count': 7, 'friends_count': 72, 'listed_count': 0, 'created_at': 'Tue Jul 06 03:59:35 +0000 2021', 'favourites_count': 106, 'utc_offset': None, 'time_zone': None, 'geo_enabled': False, 'verified': False, 'statuses_count': 236, 'lang': None, 'contributors_enabled': False, 'is_translator': False, 'is_translation_enabled': False, 'profile_background_color': 'F5F8FA', 'profile_background_image_url': None, 'profile_background_image_url_https': None, 'profile_background_tile': False, 'profile_image_url': 'http://pbs.twimg.com/profile_images/1412445198920024064/4Igp9yYw_normal.jpg', 'profile_image_url_https': 'https://pbs.twimg.com/profile_images/1412445198920024064/4Igp9yYw_normal.jpg', 'profile_banner_url': 'https://pbs.twimg.com/profile_banners/1412259786385551362/1627229547', 'profile_link_color': '1DA1F2', 'profile_sidebar_border_color': 'C0DEED', 'profile_sidebar_fill_color': 'DDEEF6', 'profile_text_color': '333333', 'profile_use_background_image': True, 'has_extended_profile': True, 'default_profile': True, 'default_profile_image': False, 'following': False, 'follow_request_sent': False, 'notifications': False, 'translator_type': 'none', 'withheld_in_countries': []}, 'geo': None, 'coordinates': None, 'place': None, 'contributors': None, 'retweeted_status': {'created_at': 'Wed Aug 18 06:01:58 +0000 2021', 'id': 1427873385745244161, 'id_str': '1427873385745244161', 'text': 'Here comes Question 1👇:\\n\\nRT and answer the question correctly using #MidWeekMiQuiz, #Mi11X, #Mi11XPro &amp;… https://t.co/W7nywjCrQi', 'truncated': True, 'entities': {'hashtags': [{'text': 'MidWeekMiQuiz', 'indices': [68, 82]}, {'text': 'Mi11X', 'indices': [84, 90]}, {'text': 'Mi11XPro', 'indices': [92, 101]}], 'symbols': [], 'user_mentions': [], 'urls': [{'url': 'https://t.co/W7nywjCrQi', 'expanded_url': 'https://twitter.com/i/web/status/1427873385745244161', 'display_url': 'twitter.com/i/web/status/1…', 'indices': [109, 132]}]}, 'metadata': {'iso_language_code': 'en', 'result_type': 'recent'}, 'source': '<a href=\"http://twitter.com/download/android\" rel=\"nofollow\">Twitter for Android</a>', 'in_reply_to_status_id': None, 'in_reply_to_status_id_str': None, 'in_reply_to_user_id': None, 'in_reply_to_user_id_str': None, 'in_reply_to_screen_name': None, 'user': {'id': 2646263522, 'id_str': '2646263522', 'name': 'Mi India', 'screen_name': 'XiaomiIndia', 'location': 'India', 'description': \"India's #1SmartphoneBrand, #1SmartTVBrand, #1WearableBrand.\", 'url': 'https://t.co/81bHnzGhWl', 'entities': {'url': {'urls': [{'url': 'https://t.co/81bHnzGhWl', 'expanded_url': 'http://www.mi.com/in', 'display_url': 'mi.com/in', 'indices': [0, 23]}]}, 'description': {'urls': []}}, 'protected': False, 'followers_count': 1203619, 'friends_count': 36, 'listed_count': 606, 'created_at': 'Mon Jul 14 20:04:13 +0000 2014', 'favourites_count': 1452, 'utc_offset': None, 'time_zone': None, 'geo_enabled': False, 'verified': True, 'statuses_count': 16241, 'lang': None, 'contributors_enabled': False, 'is_translator': False, 'is_translation_enabled': False, 'profile_background_color': 'C0DEED', 'profile_background_image_url': 'http://abs.twimg.com/images/themes/theme1/bg.png', 'profile_background_image_url_https': 'https://abs.twimg.com/images/themes/theme1/bg.png', 'profile_background_tile': False, 'profile_image_url': 'http://pbs.twimg.com/profile_images/1394198565778464768/IRSbNxQo_normal.png', 'profile_image_url_https': 'https://pbs.twimg.com/profile_images/1394198565778464768/IRSbNxQo_normal.png', 'profile_banner_url': 'https://pbs.twimg.com/profile_banners/2646263522/1625625025', 'profile_link_color': 'FF4A00', 'profile_sidebar_border_color': 'C0DEED', 'profile_sidebar_fill_color': 'DDEEF6', 'profile_text_color': '333333', 'profile_use_background_image': True, 'has_extended_profile': False, 'default_profile': False, 'default_profile_image': False, 'following': False, 'follow_request_sent': False, 'notifications': False, 'translator_type': 'none', 'withheld_in_countries': []}, 'geo': None, 'coordinates': None, 'place': None, 'contributors': None, 'is_quote_status': False, 'retweet_count': 928, 'favorite_count': 1219, 'favorited': False, 'retweeted': False, 'possibly_sensitive': False, 'lang': 'en'}, 'is_quote_status': False, 'retweet_count': 928, 'favorite_count': 0, 'favorited': False, 'retweeted': False, 'lang': 'en'}, {'created_at': 'Thu Aug 19 06:20:11 +0000 2021', 'id': 1428240358857613323, 'id_str': '1428240358857613323', 'text': '@91mobiles #Mi11XPro better dynamic range &amp; colour accuracy.\\n#realmeGT better colour reproduction and Mach detailing.', 'truncated': False, 'entities': {'hashtags': [{'text': 'Mi11XPro', 'indices': [11, 20]}, {'text': 'realmeGT', 'indices': [65, 74]}], 'symbols': [], 'user_mentions': [{'screen_name': '91mobiles', 'name': '91mobiles', 'id': 88870886, 'id_str': '88870886', 'indices': [0, 10]}], 'urls': []}, 'metadata': {'iso_language_code': 'en', 'result_type': 'recent'}, 'source': '<a href=\"http://twitter.com/download/android\" rel=\"nofollow\">Twitter for Android</a>', 'in_reply_to_status_id': 1427959106950684676, 'in_reply_to_status_id_str': '1427959106950684676', 'in_reply_to_user_id': 88870886, 'in_reply_to_user_id_str': '88870886', 'in_reply_to_screen_name': '91mobiles', 'user': {'id': 784625182338084864, 'id_str': '784625182338084864', 'name': 'Hasan Imam', 'screen_name': 'hasanImamcD', 'location': 'Chuadanga Bangladesh', 'description': 'Sports Soccer News Weather Music Metal Rock Country Reality TV Entertainment Movies Food & Drink Travel Lifestyle Personalities Technology &', 'url': None, 'entities': {'description': {'urls': []}}, 'protected': False, 'followers_count': 58, 'friends_count': 234, 'listed_count': 1, 'created_at': 'Sat Oct 08 05:23:15 +0000 2016', 'favourites_count': 1422, 'utc_offset': None, 'time_zone': None, 'geo_enabled': False, 'verified': False, 'statuses_count': 189, 'lang': None, 'contributors_enabled': False, 'is_translator': False, 'is_translation_enabled': False, 'profile_background_color': 'F5F8FA', 'profile_background_image_url': None, 'profile_background_image_url_https': None, 'profile_background_tile': False, 'profile_image_url': 'http://pbs.twimg.com/profile_images/1324234928180011010/DyPcyKta_normal.jpg', 'profile_image_url_https': 'https://pbs.twimg.com/profile_images/1324234928180011010/DyPcyKta_normal.jpg', 'profile_banner_url': 'https://pbs.twimg.com/profile_banners/784625182338084864/1515863788', 'profile_link_color': '1DA1F2', 'profile_sidebar_border_color': 'C0DEED', 'profile_sidebar_fill_color': 'DDEEF6', 'profile_text_color': '333333', 'profile_use_background_image': True, 'has_extended_profile': True, 'default_profile': True, 'default_profile_image': False, 'following': False, 'follow_request_sent': False, 'notifications': False, 'translator_type': 'none', 'withheld_in_countries': []}, 'geo': None, 'coordinates': None, 'place': None, 'contributors': None, 'is_quote_status': False, 'retweet_count': 0, 'favorite_count': 0, 'favorited': False, 'retweeted': False, 'lang': 'en'}, {'created_at': 'Thu Aug 19 06:18:00 +0000 2021', 'id': 1428239809567285251, 'id_str': '1428239809567285251', 'text': '@XiaomiIndia ANS 5-\\n(D) Qualcomm® Adreno™ 660\\n#MidWeekMiQuiz\\n#Mi11X\\n#Mi11XPro\\n#Mi11XSeries\\n\\n@Manojs_mishra… https://t.co/ex0IO9RK1w', 'truncated': True, 'entities': {'hashtags': [{'text': 'MidWeekMiQuiz', 'indices': [46, 60]}, {'text': 'Mi11X', 'indices': [61, 67]}, {'text': 'Mi11XPro', 'indices': [68, 77]}, {'text': 'Mi11XSeries', 'indices': [78, 90]}], 'symbols': [], 'user_mentions': [{'screen_name': 'XiaomiIndia', 'name': 'Mi India', 'id': 2646263522, 'id_str': '2646263522', 'indices': [0, 12]}, {'screen_name': 'Manojs_mishra', 'name': 'Manoj', 'id': 175344545, 'id_str': '175344545', 'indices': [92, 106]}], 'urls': [{'url': 'https://t.co/ex0IO9RK1w', 'expanded_url': 'https://twitter.com/i/web/status/1428239809567285251', 'display_url': 'twitter.com/i/web/status/1…', 'indices': [108, 131]}]}, 'metadata': {'iso_language_code': 'fr', 'result_type': 'recent'}, 'source': '<a href=\"https://mobile.twitter.com\" rel=\"nofollow\">Twitter Web App</a>', 'in_reply_to_status_id': 1427942617342353411, 'in_reply_to_status_id_str': '1427942617342353411', 'in_reply_to_user_id': 2646263522, 'in_reply_to_user_id_str': '2646263522', 'in_reply_to_screen_name': 'XiaomiIndia', 'user': {'id': 175344545, 'id_str': '175344545', 'name': 'Manoj', 'screen_name': 'Manojs_mishra', 'location': 'Hindustan..meri jaan', 'description': '🇮🇳🇮🇳Patriot..🇮🇳🇮🇳\\n  🇮🇳Proud Indian🇮🇳\\nlearning to Live.....', 'url': 'https://t.co/DKW7h57lkY', 'entities': {'url': {'urls': [{'url': 'https://t.co/DKW7h57lkY', 'expanded_url': 'https://www.facebook.com/manoj.mishra0007', 'display_url': 'facebook.com/manoj.mishra00…', 'indices': [0, 23]}]}, 'description': {'urls': []}}, 'protected': False, 'followers_count': 33, 'friends_count': 80, 'listed_count': 0, 'created_at': 'Fri Aug 06 10:15:41 +0000 2010', 'favourites_count': 119, 'utc_offset': None, 'time_zone': None, 'geo_enabled': True, 'verified': False, 'statuses_count': 472, 'lang': None, 'contributors_enabled': False, 'is_translator': False, 'is_translation_enabled': False, 'profile_background_color': '000000', 'profile_background_image_url': 'http://abs.twimg.com/images/themes/theme1/bg.png', 'profile_background_image_url_https': 'https://abs.twimg.com/images/themes/theme1/bg.png', 'profile_background_tile': False, 'profile_image_url': 'http://pbs.twimg.com/profile_images/1387599995235291140/4aAcNhlv_normal.jpg', 'profile_image_url_https': 'https://pbs.twimg.com/profile_images/1387599995235291140/4aAcNhlv_normal.jpg', 'profile_banner_url': 'https://pbs.twimg.com/profile_banners/175344545/1595808006', 'profile_link_color': 'F5ABB5', 'profile_sidebar_border_color': '000000', 'profile_sidebar_fill_color': '000000', 'profile_text_color': '000000', 'profile_use_background_image': False, 'has_extended_profile': True, 'default_profile': False, 'default_profile_image': False, 'following': False, 'follow_request_sent': False, 'notifications': False, 'translator_type': 'none', 'withheld_in_countries': []}, 'geo': None, 'coordinates': None, 'place': None, 'contributors': None, 'is_quote_status': False, 'retweet_count': 0, 'favorite_count': 0, 'favorited': False, 'retweeted': False, 'lang': 'fr'}, {'created_at': 'Thu Aug 19 06:15:28 +0000 2021', 'id': 1428239171752132611, 'id_str': '1428239171752132611', 'text': '@XiaomiIndia Ans-4\\n\\n A. LPDDR5 RAM + UFS 3.1 Storage\\n\\n#MidWeekMiQuiz #Mi11X #Mi11XPro #Mi11XSeries \\n @shubhthecop… https://t.co/aCyMrDLSir', 'truncated': True, 'entities': {'hashtags': [{'text': 'MidWeekMiQuiz', 'indices': [54, 68]}, {'text': 'Mi11X', 'indices': [69, 75]}, {'text': 'Mi11XPro', 'indices': [76, 85]}, {'text': 'Mi11XSeries', 'indices': [86, 98]}], 'symbols': [], 'user_mentions': [{'screen_name': 'XiaomiIndia', 'name': 'Mi India', 'id': 2646263522, 'id_str': '2646263522', 'indices': [0, 12]}, {'screen_name': 'shubhthecop', 'name': 'Manoj kumar mishra', 'id': 914856842, 'id_str': '914856842', 'indices': [101, 113]}], 'urls': [{'url': 'https://t.co/aCyMrDLSir', 'expanded_url': 'https://twitter.com/i/web/status/1428239171752132611', 'display_url': 'twitter.com/i/web/status/1…', 'indices': [115, 138]}]}, 'metadata': {'iso_language_code': 'da', 'result_type': 'recent'}, 'source': '<a href=\"https://mobile.twitter.com\" rel=\"nofollow\">Twitter Web App</a>', 'in_reply_to_status_id': 1427920227531038722, 'in_reply_to_status_id_str': '1427920227531038722', 'in_reply_to_user_id': 2646263522, 'in_reply_to_user_id_str': '2646263522', 'in_reply_to_screen_name': 'XiaomiIndia', 'user': {'id': 175344545, 'id_str': '175344545', 'name': 'Manoj', 'screen_name': 'Manojs_mishra', 'location': 'Hindustan..meri jaan', 'description': '🇮🇳🇮🇳Patriot..🇮🇳🇮🇳\\n  🇮🇳Proud Indian🇮🇳\\nlearning to Live.....', 'url': 'https://t.co/DKW7h57lkY', 'entities': {'url': {'urls': [{'url': 'https://t.co/DKW7h57lkY', 'expanded_url': 'https://www.facebook.com/manoj.mishra0007', 'display_url': 'facebook.com/manoj.mishra00…', 'indices': [0, 23]}]}, 'description': {'urls': []}}, 'protected': False, 'followers_count': 33, 'friends_count': 80, 'listed_count': 0, 'created_at': 'Fri Aug 06 10:15:41 +0000 2010', 'favourites_count': 119, 'utc_offset': None, 'time_zone': None, 'geo_enabled': True, 'verified': False, 'statuses_count': 472, 'lang': None, 'contributors_enabled': False, 'is_translator': False, 'is_translation_enabled': False, 'profile_background_color': '000000', 'profile_background_image_url': 'http://abs.twimg.com/images/themes/theme1/bg.png', 'profile_background_image_url_https': 'https://abs.twimg.com/images/themes/theme1/bg.png', 'profile_background_tile': False, 'profile_image_url': 'http://pbs.twimg.com/profile_images/1387599995235291140/4aAcNhlv_normal.jpg', 'profile_image_url_https': 'https://pbs.twimg.com/profile_images/1387599995235291140/4aAcNhlv_normal.jpg', 'profile_banner_url': 'https://pbs.twimg.com/profile_banners/175344545/1595808006', 'profile_link_color': 'F5ABB5', 'profile_sidebar_border_color': '000000', 'profile_sidebar_fill_color': '000000', 'profile_text_color': '000000', 'profile_use_background_image': False, 'has_extended_profile': True, 'default_profile': False, 'default_profile_image': False, 'following': False, 'follow_request_sent': False, 'notifications': False, 'translator_type': 'none', 'withheld_in_countries': []}, 'geo': None, 'coordinates': None, 'place': None, 'contributors': None, 'is_quote_status': False, 'retweet_count': 0, 'favorite_count': 0, 'favorited': False, 'retweeted': False, 'lang': 'da'}, {'created_at': 'Thu Aug 19 06:13:25 +0000 2021', 'id': 1428238654099525640, 'id_str': '1428238654099525640', 'text': '@XiaomiIndia Ans-3\\nA) 674397\\n\\n#MidWeekMiQuiz #Mi11X #Mi11XPro #Mi11XSeries \\n\\n@XiaomiIndia @NitinMi05  @shubhthecop @Mr_manojmishra', 'truncated': False, 'entities': {'hashtags': [{'text': 'MidWeekMiQuiz', 'indices': [30, 44]}, {'text': 'Mi11X', 'indices': [45, 51]}, {'text': 'Mi11XPro', 'indices': [52, 61]}, {'text': 'Mi11XSeries', 'indices': [62, 74]}], 'symbols': [], 'user_mentions': [{'screen_name': 'XiaomiIndia', 'name': 'Mi India', 'id': 2646263522, 'id_str': '2646263522', 'indices': [0, 12]}, {'screen_name': 'XiaomiIndia', 'name': 'Mi India', 'id': 2646263522, 'id_str': '2646263522', 'indices': [77, 89]}, {'screen_name': 'NitinMi05', 'name': 'Nitin Mishra', 'id': 854548416348553216, 'id_str': '854548416348553216', 'indices': [90, 100]}, {'screen_name': 'shubhthecop', 'name': 'Manoj kumar mishra', 'id': 914856842, 'id_str': '914856842', 'indices': [102, 114]}, {'screen_name': 'Mr_manojmishra', 'name': 'Shubh Mishra MANOJ', 'id': 1874146704, 'id_str': '1874146704', 'indices': [115, 130]}], 'urls': []}, 'metadata': {'iso_language_code': 'en', 'result_type': 'recent'}, 'source': '<a href=\"https://mobile.twitter.com\" rel=\"nofollow\">Twitter Web App</a>', 'in_reply_to_status_id': 1427903983339720715, 'in_reply_to_status_id_str': '1427903983339720715', 'in_reply_to_user_id': 2646263522, 'in_reply_to_user_id_str': '2646263522', 'in_reply_to_screen_name': 'XiaomiIndia', 'user': {'id': 175344545, 'id_str': '175344545', 'name': 'Manoj', 'screen_name': 'Manojs_mishra', 'location': 'Hindustan..meri jaan', 'description': '🇮🇳🇮🇳Patriot..🇮🇳🇮🇳\\n  🇮🇳Proud Indian🇮🇳\\nlearning to Live.....', 'url': 'https://t.co/DKW7h57lkY', 'entities': {'url': {'urls': [{'url': 'https://t.co/DKW7h57lkY', 'expanded_url': 'https://www.facebook.com/manoj.mishra0007', 'display_url': 'facebook.com/manoj.mishra00…', 'indices': [0, 23]}]}, 'description': {'urls': []}}, 'protected': False, 'followers_count': 33, 'friends_count': 80, 'listed_count': 0, 'created_at': 'Fri Aug 06 10:15:41 +0000 2010', 'favourites_count': 119, 'utc_offset': None, 'time_zone': None, 'geo_enabled': True, 'verified': False, 'statuses_count': 472, 'lang': None, 'contributors_enabled': False, 'is_translator': False, 'is_translation_enabled': False, 'profile_background_color': '000000', 'profile_background_image_url': 'http://abs.twimg.com/images/themes/theme1/bg.png', 'profile_background_image_url_https': 'https://abs.twimg.com/images/themes/theme1/bg.png', 'profile_background_tile': False, 'profile_image_url': 'http://pbs.twimg.com/profile_images/1387599995235291140/4aAcNhlv_normal.jpg', 'profile_image_url_https': 'https://pbs.twimg.com/profile_images/1387599995235291140/4aAcNhlv_normal.jpg', 'profile_banner_url': 'https://pbs.twimg.com/profile_banners/175344545/1595808006', 'profile_link_color': 'F5ABB5', 'profile_sidebar_border_color': '000000', 'profile_sidebar_fill_color': '000000', 'profile_text_color': '000000', 'profile_use_background_image': False, 'has_extended_profile': True, 'default_profile': False, 'default_profile_image': False, 'following': False, 'follow_request_sent': False, 'notifications': False, 'translator_type': 'none', 'withheld_in_countries': []}, 'geo': None, 'coordinates': None, 'place': None, 'contributors': None, 'is_quote_status': False, 'retweet_count': 0, 'favorite_count': 0, 'favorited': False, 'retweeted': False, 'lang': 'en'}, {'created_at': 'Thu Aug 19 06:12:23 +0000 2021', 'id': 1428238395109568519, 'id_str': '1428238395109568519', 'text': 'RT @XiaomiIndia: Question 4 👇:\\n\\nRT now and answer using #MidWeekMiQuiz, #Mi11X, #Mi11XPro &amp; #Mi11XSeries. The all-new Mi 11X 5G can be your…', 'truncated': False, 'entities': {'hashtags': [{'text': 'MidWeekMiQuiz', 'indices': [56, 70]}, {'text': 'Mi11X', 'indices': [72, 78]}, {'text': 'Mi11XPro', 'indices': [80, 89]}, {'text': 'Mi11XSeries', 'indices': [96, 108]}], 'symbols': [], 'user_mentions': [{'screen_name': 'XiaomiIndia', 'name': 'Mi India', 'id': 2646263522, 'id_str': '2646263522', 'indices': [3, 15]}], 'urls': []}, 'metadata': {'iso_language_code': 'en', 'result_type': 'recent'}, 'source': '<a href=\"http://twitter.com/download/android\" rel=\"nofollow\">Twitter for Android</a>', 'in_reply_to_status_id': None, 'in_reply_to_status_id_str': None, 'in_reply_to_user_id': None, 'in_reply_to_user_id_str': None, 'in_reply_to_screen_name': None, 'user': {'id': 1207238986177007616, 'id_str': '1207238986177007616', 'name': 'Jyoti Madaan', 'screen_name': 'JyotiMadaan19', 'location': '', 'description': 'Mother\\nArtist\\nFoodie', 'url': None, 'entities': {'description': {'urls': []}}, 'protected': False, 'followers_count': 169, 'friends_count': 1913, 'listed_count': 0, 'created_at': 'Wed Dec 18 09:59:51 +0000 2019', 'favourites_count': 12070, 'utc_offset': None, 'time_zone': None, 'geo_enabled': False, 'verified': False, 'statuses_count': 17221, 'lang': None, 'contributors_enabled': False, 'is_translator': False, 'is_translation_enabled': False, 'profile_background_color': 'F5F8FA', 'profile_background_image_url': None, 'profile_background_image_url_https': None, 'profile_background_tile': False, 'profile_image_url': 'http://pbs.twimg.com/profile_images/1207239787796520960/a2JP4naK_normal.jpg', 'profile_image_url_https': 'https://pbs.twimg.com/profile_images/1207239787796520960/a2JP4naK_normal.jpg', 'profile_link_color': '1DA1F2', 'profile_sidebar_border_color': 'C0DEED', 'profile_sidebar_fill_color': 'DDEEF6', 'profile_text_color': '333333', 'profile_use_background_image': True, 'has_extended_profile': False, 'default_profile': True, 'default_profile_image': False, 'following': False, 'follow_request_sent': False, 'notifications': False, 'translator_type': 'none', 'withheld_in_countries': []}, 'geo': None, 'coordinates': None, 'place': None, 'contributors': None, 'retweeted_status': {'created_at': 'Wed Aug 18 09:08:06 +0000 2021', 'id': 1427920227531038722, 'id_str': '1427920227531038722', 'text': 'Question 4 👇:\\n\\nRT now and answer using #MidWeekMiQuiz, #Mi11X, #Mi11XPro &amp; #Mi11XSeries. The all-new Mi 11X 5G can… https://t.co/t3uGFjSiuz', 'truncated': True, 'entities': {'hashtags': [{'text': 'MidWeekMiQuiz', 'indices': [39, 53]}, {'text': 'Mi11X', 'indices': [55, 61]}, {'text': 'Mi11XPro', 'indices': [63, 72]}, {'text': 'Mi11XSeries', 'indices': [79, 91]}], 'symbols': [], 'user_mentions': [], 'urls': [{'url': 'https://t.co/t3uGFjSiuz', 'expanded_url': 'https://twitter.com/i/web/status/1427920227531038722', 'display_url': 'twitter.com/i/web/status/1…', 'indices': [120, 143]}]}, 'metadata': {'iso_language_code': 'en', 'result_type': 'recent'}, 'source': '<a href=\"http://twitter.com/download/android\" rel=\"nofollow\">Twitter for Android</a>', 'in_reply_to_status_id': None, 'in_reply_to_status_id_str': None, 'in_reply_to_user_id': None, 'in_reply_to_user_id_str': None, 'in_reply_to_screen_name': None, 'user': {'id': 2646263522, 'id_str': '2646263522', 'name': 'Mi India', 'screen_name': 'XiaomiIndia', 'location': 'India', 'description': \"India's #1SmartphoneBrand, #1SmartTVBrand, #1WearableBrand.\", 'url': 'https://t.co/81bHnzGhWl', 'entities': {'url': {'urls': [{'url': 'https://t.co/81bHnzGhWl', 'expanded_url': 'http://www.mi.com/in', 'display_url': 'mi.com/in', 'indices': [0, 23]}]}, 'description': {'urls': []}}, 'protected': False, 'followers_count': 1203619, 'friends_count': 36, 'listed_count': 606, 'created_at': 'Mon Jul 14 20:04:13 +0000 2014', 'favourites_count': 1452, 'utc_offset': None, 'time_zone': None, 'geo_enabled': False, 'verified': True, 'statuses_count': 16241, 'lang': None, 'contributors_enabled': False, 'is_translator': False, 'is_translation_enabled': False, 'profile_background_color': 'C0DEED', 'profile_background_image_url': 'http://abs.twimg.com/images/themes/theme1/bg.png', 'profile_background_image_url_https': 'https://abs.twimg.com/images/themes/theme1/bg.png', 'profile_background_tile': False, 'profile_image_url': 'http://pbs.twimg.com/profile_images/1394198565778464768/IRSbNxQo_normal.png', 'profile_image_url_https': 'https://pbs.twimg.com/profile_images/1394198565778464768/IRSbNxQo_normal.png', 'profile_banner_url': 'https://pbs.twimg.com/profile_banners/2646263522/1625625025', 'profile_link_color': 'FF4A00', 'profile_sidebar_border_color': 'C0DEED', 'profile_sidebar_fill_color': 'DDEEF6', 'profile_text_color': '333333', 'profile_use_background_image': True, 'has_extended_profile': False, 'default_profile': False, 'default_profile_image': False, 'following': False, 'follow_request_sent': False, 'notifications': False, 'translator_type': 'none', 'withheld_in_countries': []}, 'geo': None, 'coordinates': None, 'place': None, 'contributors': None, 'is_quote_status': False, 'retweet_count': 823, 'favorite_count': 1017, 'favorited': False, 'retweeted': False, 'possibly_sensitive': False, 'lang': 'en'}, 'is_quote_status': False, 'retweet_count': 823, 'favorite_count': 0, 'favorited': False, 'retweeted': False, 'lang': 'en'}, {'created_at': 'Thu Aug 19 06:12:20 +0000 2021', 'id': 1428238382828724225, 'id_str': '1428238382828724225', 'text': '@XiaomiIndia A4) A) LPDDR5 RAM + UFS 3.1Storage\\n\\n#MidWeekMiQuiz #Mi11X \\n#Mi11XPro \\n#Mi11XSeries @XiaomiIndia', 'truncated': False, 'entities': {'hashtags': [{'text': 'MidWeekMiQuiz', 'indices': [49, 63]}, {'text': 'Mi11X', 'indices': [64, 70]}, {'text': 'Mi11XPro', 'indices': [72, 81]}, {'text': 'Mi11XSeries', 'indices': [83, 95]}], 'symbols': [], 'user_mentions': [{'screen_name': 'XiaomiIndia', 'name': 'Mi India', 'id': 2646263522, 'id_str': '2646263522', 'indices': [0, 12]}, {'screen_name': 'XiaomiIndia', 'name': 'Mi India', 'id': 2646263522, 'id_str': '2646263522', 'indices': [96, 108]}], 'urls': []}, 'metadata': {'iso_language_code': 'und', 'result_type': 'recent'}, 'source': '<a href=\"http://twitter.com/download/android\" rel=\"nofollow\">Twitter for Android</a>', 'in_reply_to_status_id': 1427920227531038722, 'in_reply_to_status_id_str': '1427920227531038722', 'in_reply_to_user_id': 2646263522, 'in_reply_to_user_id_str': '2646263522', 'in_reply_to_screen_name': 'XiaomiIndia', 'user': {'id': 1207238986177007616, 'id_str': '1207238986177007616', 'name': 'Jyoti Madaan', 'screen_name': 'JyotiMadaan19', 'location': '', 'description': 'Mother\\nArtist\\nFoodie', 'url': None, 'entities': {'description': {'urls': []}}, 'protected': False, 'followers_count': 169, 'friends_count': 1913, 'listed_count': 0, 'created_at': 'Wed Dec 18 09:59:51 +0000 2019', 'favourites_count': 12070, 'utc_offset': None, 'time_zone': None, 'geo_enabled': False, 'verified': False, 'statuses_count': 17221, 'lang': None, 'contributors_enabled': False, 'is_translator': False, 'is_translation_enabled': False, 'profile_background_color': 'F5F8FA', 'profile_background_image_url': None, 'profile_background_image_url_https': None, 'profile_background_tile': False, 'profile_image_url': 'http://pbs.twimg.com/profile_images/1207239787796520960/a2JP4naK_normal.jpg', 'profile_image_url_https': 'https://pbs.twimg.com/profile_images/1207239787796520960/a2JP4naK_normal.jpg', 'profile_link_color': '1DA1F2', 'profile_sidebar_border_color': 'C0DEED', 'profile_sidebar_fill_color': 'DDEEF6', 'profile_text_color': '333333', 'profile_use_background_image': True, 'has_extended_profile': False, 'default_profile': True, 'default_profile_image': False, 'following': False, 'follow_request_sent': False, 'notifications': False, 'translator_type': 'none', 'withheld_in_countries': []}, 'geo': None, 'coordinates': None, 'place': None, 'contributors': None, 'is_quote_status': False, 'retweet_count': 0, 'favorite_count': 0, 'favorited': False, 'retweeted': False, 'lang': 'und'}, {'created_at': 'Thu Aug 19 06:11:21 +0000 2021', 'id': 1428238136522412037, 'id_str': '1428238136522412037', 'text': 'RT @XiaomiIndia: Question 2 is out👇:\\n\\nTweet your answer using #MidWeekMiQuiz, #Mi11X, #Mi11XPro &amp; #Mi11XSeries and you could win an all-new…', 'truncated': False, 'entities': {'hashtags': [{'text': 'MidWeekMiQuiz', 'indices': [62, 76]}, {'text': 'Mi11X', 'indices': [78, 84]}, {'text': 'Mi11XPro', 'indices': [86, 95]}, {'text': 'Mi11XSeries', 'indices': [102, 114]}], 'symbols': [], 'user_mentions': [{'screen_name': 'XiaomiIndia', 'name': 'Mi India', 'id': 2646263522, 'id_str': '2646263522', 'indices': [3, 15]}], 'urls': []}, 'metadata': {'iso_language_code': 'en', 'result_type': 'recent'}, 'source': '<a href=\"https://mobile.twitter.com\" rel=\"nofollow\">Twitter Web App</a>', 'in_reply_to_status_id': None, 'in_reply_to_status_id_str': None, 'in_reply_to_user_id': None, 'in_reply_to_user_id_str': None, 'in_reply_to_screen_name': None, 'user': {'id': 175344545, 'id_str': '175344545', 'name': 'Manoj', 'screen_name': 'Manojs_mishra', 'location': 'Hindustan..meri jaan', 'description': '🇮🇳🇮🇳Patriot..🇮🇳🇮🇳\\n  🇮🇳Proud Indian🇮🇳\\nlearning to Live.....', 'url': 'https://t.co/DKW7h57lkY', 'entities': {'url': {'urls': [{'url': 'https://t.co/DKW7h57lkY', 'expanded_url': 'https://www.facebook.com/manoj.mishra0007', 'display_url': 'facebook.com/manoj.mishra00…', 'indices': [0, 23]}]}, 'description': {'urls': []}}, 'protected': False, 'followers_count': 33, 'friends_count': 80, 'listed_count': 0, 'created_at': 'Fri Aug 06 10:15:41 +0000 2010', 'favourites_count': 119, 'utc_offset': None, 'time_zone': None, 'geo_enabled': True, 'verified': False, 'statuses_count': 472, 'lang': None, 'contributors_enabled': False, 'is_translator': False, 'is_translation_enabled': False, 'profile_background_color': '000000', 'profile_background_image_url': 'http://abs.twimg.com/images/themes/theme1/bg.png', 'profile_background_image_url_https': 'https://abs.twimg.com/images/themes/theme1/bg.png', 'profile_background_tile': False, 'profile_image_url': 'http://pbs.twimg.com/profile_images/1387599995235291140/4aAcNhlv_normal.jpg', 'profile_image_url_https': 'https://pbs.twimg.com/profile_images/1387599995235291140/4aAcNhlv_normal.jpg', 'profile_banner_url': 'https://pbs.twimg.com/profile_banners/175344545/1595808006', 'profile_link_color': 'F5ABB5', 'profile_sidebar_border_color': '000000', 'profile_sidebar_fill_color': '000000', 'profile_text_color': '000000', 'profile_use_background_image': False, 'has_extended_profile': True, 'default_profile': False, 'default_profile_image': False, 'following': False, 'follow_request_sent': False, 'notifications': False, 'translator_type': 'none', 'withheld_in_countries': []}, 'geo': None, 'coordinates': None, 'place': None, 'contributors': None, 'retweeted_status': {'created_at': 'Wed Aug 18 07:13:29 +0000 2021', 'id': 1427891384694894592, 'id_str': '1427891384694894592', 'text': 'Question 2 is out👇:\\n\\nTweet your answer using #MidWeekMiQuiz, #Mi11X, #Mi11XPro &amp; #Mi11XSeries and you could win an… https://t.co/r6nv669Ctn', 'truncated': True, 'entities': {'hashtags': [{'text': 'MidWeekMiQuiz', 'indices': [45, 59]}, {'text': 'Mi11X', 'indices': [61, 67]}, {'text': 'Mi11XPro', 'indices': [69, 78]}, {'text': 'Mi11XSeries', 'indices': [85, 97]}], 'symbols': [], 'user_mentions': [], 'urls': [{'url': 'https://t.co/r6nv669Ctn', 'expanded_url': 'https://twitter.com/i/web/status/1427891384694894592', 'display_url': 'twitter.com/i/web/status/1…', 'indices': [120, 143]}]}, 'metadata': {'iso_language_code': 'en', 'result_type': 'recent'}, 'source': '<a href=\"http://twitter.com/download/android\" rel=\"nofollow\">Twitter for Android</a>', 'in_reply_to_status_id': None, 'in_reply_to_status_id_str': None, 'in_reply_to_user_id': None, 'in_reply_to_user_id_str': None, 'in_reply_to_screen_name': None, 'user': {'id': 2646263522, 'id_str': '2646263522', 'name': 'Mi India', 'screen_name': 'XiaomiIndia', 'location': 'India', 'description': \"India's #1SmartphoneBrand, #1SmartTVBrand, #1WearableBrand.\", 'url': 'https://t.co/81bHnzGhWl', 'entities': {'url': {'urls': [{'url': 'https://t.co/81bHnzGhWl', 'expanded_url': 'http://www.mi.com/in', 'display_url': 'mi.com/in', 'indices': [0, 23]}]}, 'description': {'urls': []}}, 'protected': False, 'followers_count': 1203619, 'friends_count': 36, 'listed_count': 606, 'created_at': 'Mon Jul 14 20:04:13 +0000 2014', 'favourites_count': 1452, 'utc_offset': None, 'time_zone': None, 'geo_enabled': False, 'verified': True, 'statuses_count': 16241, 'lang': None, 'contributors_enabled': False, 'is_translator': False, 'is_translation_enabled': False, 'profile_background_color': 'C0DEED', 'profile_background_image_url': 'http://abs.twimg.com/images/themes/theme1/bg.png', 'profile_background_image_url_https': 'https://abs.twimg.com/images/themes/theme1/bg.png', 'profile_background_tile': False, 'profile_image_url': 'http://pbs.twimg.com/profile_images/1394198565778464768/IRSbNxQo_normal.png', 'profile_image_url_https': 'https://pbs.twimg.com/profile_images/1394198565778464768/IRSbNxQo_normal.png', 'profile_banner_url': 'https://pbs.twimg.com/profile_banners/2646263522/1625625025', 'profile_link_color': 'FF4A00', 'profile_sidebar_border_color': 'C0DEED', 'profile_sidebar_fill_color': 'DDEEF6', 'profile_text_color': '333333', 'profile_use_background_image': True, 'has_extended_profile': False, 'default_profile': False, 'default_profile_image': False, 'following': False, 'follow_request_sent': False, 'notifications': False, 'translator_type': 'none', 'withheld_in_countries': []}, 'geo': None, 'coordinates': None, 'place': None, 'contributors': None, 'is_quote_status': False, 'retweet_count': 829, 'favorite_count': 1013, 'favorited': False, 'retweeted': False, 'possibly_sensitive': False, 'lang': 'en'}, 'is_quote_status': False, 'retweet_count': 829, 'favorite_count': 0, 'favorited': False, 'retweeted': False, 'lang': 'en'}, {'created_at': 'Thu Aug 19 06:11:09 +0000 2021', 'id': 1428238086077501443, 'id_str': '1428238086077501443', 'text': '@manukumarjain @XiaomiIndia I like all of your products because of your UI and product quality. They are very long… https://t.co/clYvR5Depx', 'truncated': True, 'entities': {'hashtags': [], 'symbols': [], 'user_mentions': [{'screen_name': 'manukumarjain', 'name': 'Manu Kumar Jain', 'id': 74787719, 'id_str': '74787719', 'indices': [0, 14]}, {'screen_name': 'XiaomiIndia', 'name': 'Mi India', 'id': 2646263522, 'id_str': '2646263522', 'indices': [15, 27]}], 'urls': [{'url': 'https://t.co/clYvR5Depx', 'expanded_url': 'https://twitter.com/i/web/status/1428238086077501443', 'display_url': 'twitter.com/i/web/status/1…', 'indices': [116, 139]}]}, 'metadata': {'iso_language_code': 'en', 'result_type': 'recent'}, 'source': '<a href=\"https://mobile.twitter.com\" rel=\"nofollow\">Twitter Web App</a>', 'in_reply_to_status_id': 1428229134002622466, 'in_reply_to_status_id_str': '1428229134002622466', 'in_reply_to_user_id': 74787719, 'in_reply_to_user_id_str': '74787719', 'in_reply_to_screen_name': 'manukumarjain', 'user': {'id': 1297526019113418753, 'id_str': '1297526019113418753', 'name': 'Rahul', 'screen_name': 'Rahul30425066', 'location': 'India', 'description': '🔥🔥Hard work never fails🔥🔥', 'url': None, 'entities': {'description': {'urls': []}}, 'protected': False, 'followers_count': 1, 'friends_count': 46, 'listed_count': 0, 'created_at': 'Sun Aug 23 13:29:29 +0000 2020', 'favourites_count': 154, 'utc_offset': None, 'time_zone': None, 'geo_enabled': False, 'verified': False, 'statuses_count': 153, 'lang': None, 'contributors_enabled': False, 'is_translator': False, 'is_translation_enabled': False, 'profile_background_color': 'F5F8FA', 'profile_background_image_url': None, 'profile_background_image_url_https': None, 'profile_background_tile': False, 'profile_image_url': 'http://pbs.twimg.com/profile_images/1411153847377010689/kjN-GIac_normal.jpg', 'profile_image_url_https': 'https://pbs.twimg.com/profile_images/1411153847377010689/kjN-GIac_normal.jpg', 'profile_banner_url': 'https://pbs.twimg.com/profile_banners/1297526019113418753/1627211569', 'profile_link_color': '1DA1F2', 'profile_sidebar_border_color': 'C0DEED', 'profile_sidebar_fill_color': 'DDEEF6', 'profile_text_color': '333333', 'profile_use_background_image': True, 'has_extended_profile': True, 'default_profile': True, 'default_profile_image': False, 'following': False, 'follow_request_sent': False, 'notifications': False, 'translator_type': 'none', 'withheld_in_countries': []}, 'geo': None, 'coordinates': None, 'place': None, 'contributors': None, 'is_quote_status': False, 'retweet_count': 0, 'favorite_count': 1, 'favorited': False, 'retweeted': False, 'lang': 'en'}, {'created_at': 'Thu Aug 19 06:11:01 +0000 2021', 'id': 1428238050643955717, 'id_str': '1428238050643955717', 'text': '@XiaomiIndia Ans-2\\nC) Qualcomm® Spectra™ 580\\n\\n#MidWeekMiQuiz  \\n#Mi11X  \\n#Mi11XPro \\n#Mi11XSeries\\n@XiaomiIndia… https://t.co/uJz8I69kR5', 'truncated': True, 'entities': {'hashtags': [{'text': 'MidWeekMiQuiz', 'indices': [46, 60]}, {'text': 'Mi11X', 'indices': [63, 69]}, {'text': 'Mi11XPro', 'indices': [72, 81]}, {'text': 'Mi11XSeries', 'indices': [83, 95]}], 'symbols': [], 'user_mentions': [{'screen_name': 'XiaomiIndia', 'name': 'Mi India', 'id': 2646263522, 'id_str': '2646263522', 'indices': [0, 12]}, {'screen_name': 'XiaomiIndia', 'name': 'Mi India', 'id': 2646263522, 'id_str': '2646263522', 'indices': [96, 108]}], 'urls': [{'url': 'https://t.co/uJz8I69kR5', 'expanded_url': 'https://twitter.com/i/web/status/1428238050643955717', 'display_url': 'twitter.com/i/web/status/1…', 'indices': [110, 133]}]}, 'metadata': {'iso_language_code': 'en', 'result_type': 'recent'}, 'source': '<a href=\"https://mobile.twitter.com\" rel=\"nofollow\">Twitter Web App</a>', 'in_reply_to_status_id': 1427891384694894592, 'in_reply_to_status_id_str': '1427891384694894592', 'in_reply_to_user_id': 2646263522, 'in_reply_to_user_id_str': '2646263522', 'in_reply_to_screen_name': 'XiaomiIndia', 'user': {'id': 175344545, 'id_str': '175344545', 'name': 'Manoj', 'screen_name': 'Manojs_mishra', 'location': 'Hindustan..meri jaan', 'description': '🇮🇳🇮🇳Patriot..🇮🇳🇮🇳\\n  🇮🇳Proud Indian🇮🇳\\nlearning to Live.....', 'url': 'https://t.co/DKW7h57lkY', 'entities': {'url': {'urls': [{'url': 'https://t.co/DKW7h57lkY', 'expanded_url': 'https://www.facebook.com/manoj.mishra0007', 'display_url': 'facebook.com/manoj.mishra00…', 'indices': [0, 23]}]}, 'description': {'urls': []}}, 'protected': False, 'followers_count': 33, 'friends_count': 80, 'listed_count': 0, 'created_at': 'Fri Aug 06 10:15:41 +0000 2010', 'favourites_count': 119, 'utc_offset': None, 'time_zone': None, 'geo_enabled': True, 'verified': False, 'statuses_count': 472, 'lang': None, 'contributors_enabled': False, 'is_translator': False, 'is_translation_enabled': False, 'profile_background_color': '000000', 'profile_background_image_url': 'http://abs.twimg.com/images/themes/theme1/bg.png', 'profile_background_image_url_https': 'https://abs.twimg.com/images/themes/theme1/bg.png', 'profile_background_tile': False, 'profile_image_url': 'http://pbs.twimg.com/profile_images/1387599995235291140/4aAcNhlv_normal.jpg', 'profile_image_url_https': 'https://pbs.twimg.com/profile_images/1387599995235291140/4aAcNhlv_normal.jpg', 'profile_banner_url': 'https://pbs.twimg.com/profile_banners/175344545/1595808006', 'profile_link_color': 'F5ABB5', 'profile_sidebar_border_color': '000000', 'profile_sidebar_fill_color': '000000', 'profile_text_color': '000000', 'profile_use_background_image': False, 'has_extended_profile': True, 'default_profile': False, 'default_profile_image': False, 'following': False, 'follow_request_sent': False, 'notifications': False, 'translator_type': 'none', 'withheld_in_countries': []}, 'geo': None, 'coordinates': None, 'place': None, 'contributors': None, 'is_quote_status': False, 'retweet_count': 0, 'favorite_count': 0, 'favorited': False, 'retweeted': False, 'lang': 'en'}], 'search_metadata': {'completed_in': 0.046, 'max_id': 1428240723132837894, 'max_id_str': '1428240723132837894', 'next_results': '?max_id=1428238050643955716&q=%23Mi11XPro&count=10&include_entities=1', 'query': '%23Mi11XPro', 'refresh_url': '?since_id=1428240723132837894&q=%23Mi11XPro&include_entities=1', 'count': 10, 'since_id': 0, 'since_id_str': '0'}}\n"
     ]
    }
   ],
   "source": [
    "q='#Mi11XPro'\n",
    "count = 10\n",
    "from urllib.parse import unquote\n",
    "search_results = twitter_api.search.tweets(q=q, count=count)\n",
    "statusess = search_results['statuses']\n",
    "print(search_results)"
   ]
  },
  {
   "cell_type": "code",
   "execution_count": 6,
   "metadata": {},
   "outputs": [
    {
     "name": "stdout",
     "output_type": "stream",
     "text": [
      "{\n",
      " \"created_at\": \"Thu Aug 19 06:21:38 +0000 2021\",\n",
      " \"id\": 1428240723132837894,\n",
      " \"id_str\": \"1428240723132837894\",\n",
      " \"text\": \"RT @XiaomiIndia: Here comes Question 1\\ud83d\\udc47:\\n\\nRT and answer the question correctly using #MidWeekMiQuiz, #Mi11X, #Mi11XPro &amp; #Mi11XSeries and s\\u2026\",\n",
      " \"truncated\": false,\n",
      " \"entities\": {\n",
      "  \"hashtags\": [\n",
      "   {\n",
      "    \"text\": \"MidWeekMiQuiz\",\n",
      "    \"indices\": [\n",
      "     85,\n",
      "     99\n",
      "    ]\n",
      "   },\n",
      "   {\n",
      "    \"text\": \"Mi11X\",\n",
      "    \"indices\": [\n",
      "     101,\n",
      "     107\n",
      "    ]\n",
      "   },\n",
      "   {\n",
      "    \"text\": \"Mi11XPro\",\n",
      "    \"indices\": [\n",
      "     109,\n",
      "     118\n",
      "    ]\n",
      "   },\n",
      "   {\n",
      "    \"text\": \"Mi11XSeries\",\n",
      "    \"indices\": [\n",
      "     125,\n",
      "     137\n",
      "    ]\n",
      "   }\n",
      "  ],\n",
      "  \"symbols\": [],\n",
      "  \"user_mentions\": [\n",
      "   {\n",
      "    \"screen_name\": \"XiaomiIndia\",\n",
      "    \"name\": \"Mi India\",\n",
      "    \"id\": 2646263522,\n",
      "    \"id_str\": \"2646263522\",\n",
      "    \"indices\": [\n",
      "     3,\n",
      "     15\n",
      "    ]\n",
      "   }\n",
      "  ],\n",
      "  \"urls\": []\n",
      " },\n",
      " \"metadata\": {\n",
      "  \"iso_language_code\": \"en\",\n",
      "  \"result_type\": \"recent\"\n",
      " },\n",
      " \"source\": \"<a href=\\\"https://mobile.twitter.com\\\" rel=\\\"nofollow\\\">Twitter Web App</a>\",\n",
      " \"in_reply_to_status_id\": null,\n",
      " \"in_reply_to_status_id_str\": null,\n",
      " \"in_reply_to_user_id\": null,\n",
      " \"in_reply_to_user_id_str\": null,\n",
      " \"in_reply_to_screen_name\": null,\n",
      " \"user\": {\n",
      "  \"id\": 1412259786385551362,\n",
      "  \"id_str\": \"1412259786385551362\",\n",
      "  \"name\": \"PRANAV DAS K\",\n",
      "  \"screen_name\": \"Pranavdask1\",\n",
      "  \"location\": \"\",\n",
      "  \"description\": \"PROUD INDIAN \\ud83c\\uddee\\ud83c\\uddf3 TECH LOVER \\u2764\\ufe0f FOOTBALL LOVER \\u26bd\\ufe0f\\u2764\\ufe0f\",\n",
      "  \"url\": null,\n",
      "  \"entities\": {\n",
      "   \"description\": {\n",
      "    \"urls\": []\n",
      "   }\n",
      "  },\n",
      "  \"protected\": false,\n",
      "  \"followers_count\": 7,\n",
      "  \"friends_count\": 72,\n",
      "  \"listed_count\": 0,\n",
      "  \"created_at\": \"Tue Jul 06 03:59:35 +0000 2021\",\n",
      "  \"favourites_count\": 106,\n",
      "  \"utc_offset\": null,\n",
      "  \"time_zone\": null,\n",
      "  \"geo_enabled\": false,\n",
      "  \"verified\": false,\n",
      "  \"statuses_count\": 236,\n",
      "  \"lang\": null,\n",
      "  \"contributors_enabled\": false,\n",
      "  \"is_translator\": false,\n",
      "  \"is_translation_enabled\": false,\n",
      "  \"profile_background_color\": \"F5F8FA\",\n",
      "  \"profile_background_image_url\": null,\n",
      "  \"profile_background_image_url_https\": null,\n",
      "  \"profile_background_tile\": false,\n",
      "  \"profile_image_url\": \"http://pbs.twimg.com/profile_images/1412445198920024064/4Igp9yYw_normal.jpg\",\n",
      "  \"profile_image_url_https\": \"https://pbs.twimg.com/profile_images/1412445198920024064/4Igp9yYw_normal.jpg\",\n",
      "  \"profile_banner_url\": \"https://pbs.twimg.com/profile_banners/1412259786385551362/1627229547\",\n",
      "  \"profile_link_color\": \"1DA1F2\",\n",
      "  \"profile_sidebar_border_color\": \"C0DEED\",\n",
      "  \"profile_sidebar_fill_color\": \"DDEEF6\",\n",
      "  \"profile_text_color\": \"333333\",\n",
      "  \"profile_use_background_image\": true,\n",
      "  \"has_extended_profile\": true,\n",
      "  \"default_profile\": true,\n",
      "  \"default_profile_image\": false,\n",
      "  \"following\": false,\n",
      "  \"follow_request_sent\": false,\n",
      "  \"notifications\": false,\n",
      "  \"translator_type\": \"none\",\n",
      "  \"withheld_in_countries\": []\n",
      " },\n",
      " \"geo\": null,\n",
      " \"coordinates\": null,\n",
      " \"place\": null,\n",
      " \"contributors\": null,\n",
      " \"retweeted_status\": {\n",
      "  \"created_at\": \"Wed Aug 18 06:01:58 +0000 2021\",\n",
      "  \"id\": 1427873385745244161,\n",
      "  \"id_str\": \"1427873385745244161\",\n",
      "  \"text\": \"Here comes Question 1\\ud83d\\udc47:\\n\\nRT and answer the question correctly using #MidWeekMiQuiz, #Mi11X, #Mi11XPro &amp;\\u2026 https://t.co/W7nywjCrQi\",\n",
      "  \"truncated\": true,\n",
      "  \"entities\": {\n",
      "   \"hashtags\": [\n",
      "    {\n",
      "     \"text\": \"MidWeekMiQuiz\",\n",
      "     \"indices\": [\n",
      "      68,\n",
      "      82\n",
      "     ]\n",
      "    },\n",
      "    {\n",
      "     \"text\": \"Mi11X\",\n",
      "     \"indices\": [\n",
      "      84,\n",
      "      90\n",
      "     ]\n",
      "    },\n",
      "    {\n",
      "     \"text\": \"Mi11XPro\",\n",
      "     \"indices\": [\n",
      "      92,\n",
      "      101\n",
      "     ]\n",
      "    }\n",
      "   ],\n",
      "   \"symbols\": [],\n",
      "   \"user_mentions\": [],\n",
      "   \"urls\": [\n",
      "    {\n",
      "     \"url\": \"https://t.co/W7nywjCrQi\",\n",
      "     \"expanded_url\": \"https://twitter.com/i/web/status/1427873385745244161\",\n",
      "     \"display_url\": \"twitter.com/i/web/status/1\\u2026\",\n",
      "     \"indices\": [\n",
      "      109,\n",
      "      132\n",
      "     ]\n",
      "    }\n",
      "   ]\n",
      "  },\n",
      "  \"metadata\": {\n",
      "   \"iso_language_code\": \"en\",\n",
      "   \"result_type\": \"recent\"\n",
      "  },\n",
      "  \"source\": \"<a href=\\\"http://twitter.com/download/android\\\" rel=\\\"nofollow\\\">Twitter for Android</a>\",\n",
      "  \"in_reply_to_status_id\": null,\n",
      "  \"in_reply_to_status_id_str\": null,\n",
      "  \"in_reply_to_user_id\": null,\n",
      "  \"in_reply_to_user_id_str\": null,\n",
      "  \"in_reply_to_screen_name\": null,\n",
      "  \"user\": {\n",
      "   \"id\": 2646263522,\n",
      "   \"id_str\": \"2646263522\",\n",
      "   \"name\": \"Mi India\",\n",
      "   \"screen_name\": \"XiaomiIndia\",\n",
      "   \"location\": \"India\",\n",
      "   \"description\": \"India's #1SmartphoneBrand, #1SmartTVBrand, #1WearableBrand.\",\n",
      "   \"url\": \"https://t.co/81bHnzGhWl\",\n",
      "   \"entities\": {\n",
      "    \"url\": {\n",
      "     \"urls\": [\n",
      "      {\n",
      "       \"url\": \"https://t.co/81bHnzGhWl\",\n",
      "       \"expanded_url\": \"http://www.mi.com/in\",\n",
      "       \"display_url\": \"mi.com/in\",\n",
      "       \"indices\": [\n",
      "        0,\n",
      "        23\n",
      "       ]\n",
      "      }\n",
      "     ]\n",
      "    },\n",
      "    \"description\": {\n",
      "     \"urls\": []\n",
      "    }\n",
      "   },\n",
      "   \"protected\": false,\n",
      "   \"followers_count\": 1203619,\n",
      "   \"friends_count\": 36,\n",
      "   \"listed_count\": 606,\n",
      "   \"created_at\": \"Mon Jul 14 20:04:13 +0000 2014\",\n",
      "   \"favourites_count\": 1452,\n",
      "   \"utc_offset\": null,\n",
      "   \"time_zone\": null,\n",
      "   \"geo_enabled\": false,\n",
      "   \"verified\": true,\n",
      "   \"statuses_count\": 16241,\n",
      "   \"lang\": null,\n",
      "   \"contributors_enabled\": false,\n",
      "   \"is_translator\": false,\n",
      "   \"is_translation_enabled\": false,\n",
      "   \"profile_background_color\": \"C0DEED\",\n",
      "   \"profile_background_image_url\": \"http://abs.twimg.com/images/themes/theme1/bg.png\",\n",
      "   \"profile_background_image_url_https\": \"https://abs.twimg.com/images/themes/theme1/bg.png\",\n",
      "   \"profile_background_tile\": false,\n",
      "   \"profile_image_url\": \"http://pbs.twimg.com/profile_images/1394198565778464768/IRSbNxQo_normal.png\",\n",
      "   \"profile_image_url_https\": \"https://pbs.twimg.com/profile_images/1394198565778464768/IRSbNxQo_normal.png\",\n",
      "   \"profile_banner_url\": \"https://pbs.twimg.com/profile_banners/2646263522/1625625025\",\n",
      "   \"profile_link_color\": \"FF4A00\",\n",
      "   \"profile_sidebar_border_color\": \"C0DEED\",\n",
      "   \"profile_sidebar_fill_color\": \"DDEEF6\",\n",
      "   \"profile_text_color\": \"333333\",\n",
      "   \"profile_use_background_image\": true,\n",
      "   \"has_extended_profile\": false,\n",
      "   \"default_profile\": false,\n",
      "   \"default_profile_image\": false,\n",
      "   \"following\": false,\n",
      "   \"follow_request_sent\": false,\n",
      "   \"notifications\": false,\n",
      "   \"translator_type\": \"none\",\n",
      "   \"withheld_in_countries\": []\n",
      "  },\n",
      "  \"geo\": null,\n",
      "  \"coordinates\": null,\n",
      "  \"place\": null,\n",
      "  \"contributors\": null,\n",
      "  \"is_quote_status\": false,\n",
      "  \"retweet_count\": 928,\n",
      "  \"favorite_count\": 1219,\n",
      "  \"favorited\": false,\n",
      "  \"retweeted\": false,\n",
      "  \"possibly_sensitive\": false,\n",
      "  \"lang\": \"en\"\n",
      " },\n",
      " \"is_quote_status\": false,\n",
      " \"retweet_count\": 928,\n",
      " \"favorite_count\": 0,\n",
      " \"favorited\": false,\n",
      " \"retweeted\": false,\n",
      " \"lang\": \"en\"\n",
      "}\n"
     ]
    }
   ],
   "source": [
    "print(json.dumps(statusess[0], indent=1))"
   ]
  },
  {
   "cell_type": "markdown",
   "metadata": {},
   "source": [
    "### 5. Extract text, screen names and hashtags from tweets"
   ]
  },
  {
   "cell_type": "code",
   "execution_count": null,
   "metadata": {},
   "outputs": [],
   "source": []
  },
  {
   "cell_type": "markdown",
   "metadata": {},
   "source": [
    "### 6. Create a frequency distribution from the words of the tweets"
   ]
  },
  {
   "cell_type": "code",
   "execution_count": null,
   "metadata": {},
   "outputs": [],
   "source": []
  },
  {
   "cell_type": "markdown",
   "metadata": {},
   "source": [
    "### 7. Using prettytable library, print the above frequency distribution in the form of a table"
   ]
  },
  {
   "cell_type": "code",
   "execution_count": null,
   "metadata": {},
   "outputs": [],
   "source": []
  },
  {
   "cell_type": "markdown",
   "metadata": {},
   "source": [
    "### 8. Generate histograms of words, screen names and hastags"
   ]
  },
  {
   "cell_type": "code",
   "execution_count": null,
   "metadata": {},
   "outputs": [],
   "source": []
  }
 ],
 "metadata": {
  "kernelspec": {
   "display_name": "Python 3",
   "language": "python",
   "name": "python3"
  },
  "language_info": {
   "codemirror_mode": {
    "name": "ipython",
    "version": 3
   },
   "file_extension": ".py",
   "mimetype": "text/x-python",
   "name": "python",
   "nbconvert_exporter": "python",
   "pygments_lexer": "ipython3",
   "version": "3.8.5"
  }
 },
 "nbformat": 4,
 "nbformat_minor": 4
}
